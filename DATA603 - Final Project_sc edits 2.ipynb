{
 "cells": [
  {
   "cell_type": "markdown",
   "metadata": {
    "application/vnd.databricks.v1+cell": {
     "inputWidgets": {},
     "nuid": "a5951c26-fecc-4a4c-9aae-9f9358fd97f7",
     "showTitle": false,
     "title": ""
    }
   },
   "source": [
    "# Amazon Review Sentiment Analysis"
   ]
  },
  {
   "cell_type": "code",
   "execution_count": 1,
   "metadata": {
    "application/vnd.databricks.v1+cell": {
     "inputWidgets": {},
     "nuid": "f6ed9022-2bc6-49e4-bf4f-4a9cfcf986d2",
     "showTitle": false,
     "title": ""
    }
   },
   "outputs": [],
   "source": [
    "from textblob import TextBlob\n",
    "from pyspark.sql import SparkSession\n",
    "from pyspark.sql.types import *\n",
    "from pyspark.ml import *\n",
    "from pyspark.ml.classification import *\n",
    "from pyspark.ml.feature import *\n",
    "from pyspark.ml.param import *\n",
    "from pyspark.ml.tuning import *\n",
    "from pyspark.ml.evaluation import *\n",
    "from pyspark.sql.types import DoubleType\n",
    "from pyspark.sql.functions import * \n",
    "from pyspark.sql.functions import regexp_replace, trim, col, lower\n",
    "from sklearn.metrics import classification_report\n",
    "from time import time\n",
    "from pyspark import SparkContext, SparkConf\n",
    "from pyspark.sql import SQLContext, Row\n",
    "import pandas as pd\n",
    "import seaborn as sns\n",
    "import matplotlib.pyplot as plt\n",
    "import re, string"
   ]
  },
  {
   "cell_type": "markdown",
   "metadata": {
    "application/vnd.databricks.v1+cell": {
     "inputWidgets": {},
     "nuid": "0efdf6dd-e6da-4d8b-b332-8654598be1d2",
     "showTitle": false,
     "title": ""
    }
   },
   "source": [
    "## Start Spark Session"
   ]
  },
  {
   "cell_type": "code",
   "execution_count": 2,
   "metadata": {
    "application/vnd.databricks.v1+cell": {
     "inputWidgets": {},
     "nuid": "6aa89b52-2cd7-4376-a7d1-f0d997aaef1c",
     "showTitle": false,
     "title": ""
    }
   },
   "outputs": [],
   "source": [
    "spark = SparkSession\\\n",
    "    .builder\\\n",
    "    .getOrCreate()"
   ]
  },
  {
   "cell_type": "markdown",
   "metadata": {
    "application/vnd.databricks.v1+cell": {
     "inputWidgets": {},
     "nuid": "8f68f350-1a57-4320-89d1-92ab7c3990b6",
     "showTitle": false,
     "title": ""
    }
   },
   "source": [
    "## Create schema"
   ]
  },
  {
   "cell_type": "code",
   "execution_count": 3,
   "metadata": {
    "application/vnd.databricks.v1+cell": {
     "inputWidgets": {},
     "nuid": "30827608-d856-4d5d-820e-98fc9825b3d6",
     "showTitle": false,
     "title": ""
    }
   },
   "outputs": [],
   "source": [
    "schema = StructType([\n",
    "    StructField(\"id\", StringType(), True),\n",
    "    StructField(\"dateAdded\", StringType(), True),\n",
    "    StructField(\"dateUpdated\", StringType(), True),\n",
    "    StructField(\"name\", StringType(), True),\n",
    "    StructField(\"asins\", StringType(), True),\n",
    "    StructField(\"brand\", StringType(), True),\n",
    "    StructField(\"categories\", StringType(), True),\n",
    "    StructField(\"primaryCategories\", StringType(), True),\n",
    "    StructField(\"imageURLs\", StringType(), True),\n",
    "    StructField(\"keys\", StringType(), True),\n",
    "    StructField(\"manufacturer\", StringType(), True),\n",
    "    StructField(\"manufacturerNumber\", StringType(), True),\n",
    "    StructField(\"reviews.date\", StringType(), True),\n",
    "    StructField(\"reviews.dateAdded\", StringType(), True),\n",
    "    StructField(\"reviews.dateSeen\", StringType(), True),\n",
    "    StructField(\"reviews.doRecommend\", StringType(), True),\n",
    "    StructField(\"reviews.id\", StringType(), True),\n",
    "    StructField(\"reviews.numHelpful\", StringType(), True),\n",
    "    StructField(\"reviews.rating\", IntegerType(), True),\n",
    "    StructField(\"reviews.sourceURLs\", StringType(), True),\n",
    "    StructField(\"reviews.text\", StringType(), True),\n",
    "    StructField(\"reviews.title\", StringType(), True),\n",
    "    StructField(\"reviews.username\", StringType(), True),\n",
    "    StructField(\"sourceURLs\", StringType(), True)])"
   ]
  },
  {
   "cell_type": "markdown",
   "metadata": {
    "application/vnd.databricks.v1+cell": {
     "inputWidgets": {},
     "nuid": "4a285ebc-6b61-4de5-858f-9c46cac7f6c8",
     "showTitle": false,
     "title": ""
    }
   },
   "source": [
    "## Import & Combine Data"
   ]
  },
  {
   "cell_type": "code",
   "execution_count": 4,
   "metadata": {
    "application/vnd.databricks.v1+cell": {
     "inputWidgets": {},
     "nuid": "f27a1269-f8b1-4c71-9bd2-5d21ef2880c2",
     "showTitle": false,
     "title": ""
    }
   },
   "outputs": [],
   "source": [
    "raw_data1 = spark.read.format(\"csv\")\\\n",
    "    .option(\"header\", \"true\")\\\n",
    "    .option(\"delimiter\", \",\")\\\n",
    "    .schema(schema)\\\n",
    "    .csv('/Users/samuelclark/Documents/UMBC Data Science /Platforms for Big Data Processing/Final Project/Analysis/Raw/archive/Datafiniti_Amazon_Consumer_Reviews_of_Amazon_Products.csv')\n",
    "\n",
    "raw_data2 = spark.read.format(\"csv\")\\\n",
    "    .option(\"header\", \"true\")\\\n",
    "    .option(\"delimiter\", \",\")\\\n",
    "    .schema(schema)\\\n",
    "    .csv(\"/Users/samuelclark/Documents/UMBC Data Science /Platforms for Big Data Processing/Final Project/Analysis/Raw/archive/Datafiniti_Amazon_Consumer_Reviews_of_Amazon_Products_May19.csv\")\n",
    "\n",
    "raw_data = raw_data1.union(raw_data2) #concatentating the second dataset to the first\n",
    "\n",
    "for name in raw_data.schema.names:\n",
    "      raw_data = raw_data.withColumnRenamed(name, name.replace('.', '_')) #cleaning up column names"
   ]
  },
  {
   "cell_type": "code",
   "execution_count": 5,
   "metadata": {
    "application/vnd.databricks.v1+cell": {
     "inputWidgets": {},
     "nuid": "39df9999-a5df-4f41-acd4-a0f146009c3c",
     "showTitle": false,
     "title": ""
    }
   },
   "outputs": [
    {
     "data": {
      "text/plain": [
       "DataFrame[id: string, dateAdded: string, dateUpdated: string, name: string, asins: string, brand: string, categories: string, primaryCategories: string, imageURLs: string, keys: string, manufacturer: string, manufacturerNumber: string, reviews_date: string, reviews_dateAdded: string, reviews_dateSeen: string, reviews_doRecommend: string, reviews_id: string, reviews_numHelpful: string, reviews_rating: int, reviews_sourceURLs: string, reviews_text: string, reviews_title: string, reviews_username: string, sourceURLs: string]"
      ]
     },
     "execution_count": 5,
     "metadata": {},
     "output_type": "execute_result"
    }
   ],
   "source": [
    "raw_data.cache()"
   ]
  },
  {
   "cell_type": "markdown",
   "metadata": {
    "application/vnd.databricks.v1+cell": {
     "inputWidgets": {},
     "nuid": "6b8869f5-da52-4c7d-886e-d911ede3bf5b",
     "showTitle": false,
     "title": ""
    }
   },
   "source": [
    "## Sentiment Analysis and Text cleaning"
   ]
  },
  {
   "cell_type": "code",
   "execution_count": 6,
   "metadata": {},
   "outputs": [],
   "source": [
    "#make all text lower case\n",
    "raw_data = raw_data.withColumn('reviews_text',lower(col('reviews_text')))"
   ]
  },
  {
   "cell_type": "code",
   "execution_count": 7,
   "metadata": {},
   "outputs": [],
   "source": [
    "#remove punctuation\n",
    "raw_data = raw_data.withColumn('reviews_text', regexp_replace('reviews_text', \"\\p{Punct}\", \"\"))"
   ]
  },
  {
   "cell_type": "code",
   "execution_count": 8,
   "metadata": {},
   "outputs": [],
   "source": [
    "# pipeline\n",
    "\n",
    "tokenizer = RegexTokenizer(inputCol=\"reviews_text\", outputCol=\"token\").setPattern(\"\\\\W\")\n",
    "remover = StopWordsRemover(inputCol=\"token\", outputCol=\"stopwordsremoved\")\n",
    "hashtf = HashingTF(inputCol=\"stopwordsremoved\", outputCol='hashingTF')\n",
    "idf = IDF(inputCol='hashingTF', outputCol=\"IDF\")\n",
    "\n",
    "\n",
    "\n",
    "pipeline = Pipeline(stages=[tokenizer, remover, hashtf, idf])\n",
    "\n",
    "review = pipeline.fit(raw_data).transform(raw_data)"
   ]
  },
  {
   "cell_type": "code",
   "execution_count": 9,
   "metadata": {
    "application/vnd.databricks.v1+cell": {
     "inputWidgets": {},
     "nuid": "0909b5f4-e237-4546-93ca-8a2565b95349",
     "showTitle": false,
     "title": ""
    }
   },
   "outputs": [],
   "source": [
    "def textblob_udf(text):\n",
    "    result = TextBlob(text).sentiment[0] #use the polarity to decide user's opinion\n",
    "    if result >= 0.0:\n",
    "        return 1.0\n",
    "    else:\n",
    "        return 0.0 \n",
    "    \n",
    "sentiment = udf(textblob_udf) #register udf"
   ]
  },
  {
   "cell_type": "code",
   "execution_count": 10,
   "metadata": {
    "application/vnd.databricks.v1+cell": {
     "inputWidgets": {},
     "nuid": "8a0d9627-1811-40f0-b567-47721e63e0ea",
     "showTitle": false,
     "title": ""
    }
   },
   "outputs": [],
   "source": [
    "# create label column with the polarity values\n",
    "reviews = raw_data.withColumn(\"label\", sentiment(raw_data['reviews_text']))\\\n",
    "    .select('name','reviews_text','reviews_rating','label')"
   ]
  },
  {
   "cell_type": "code",
   "execution_count": 11,
   "metadata": {
    "application/vnd.databricks.v1+cell": {
     "inputWidgets": {},
     "nuid": "d77c8a11-f62c-4463-a59a-84db9fba8d6c",
     "showTitle": false,
     "title": ""
    }
   },
   "outputs": [],
   "source": [
    "# convert the label data from StringType to IntegerType\n",
    "reviews = reviews\\\n",
    "    .withColumn('label', reviews['label'].cast(IntegerType()))"
   ]
  },
  {
   "cell_type": "code",
   "execution_count": 12,
   "metadata": {
    "application/vnd.databricks.v1+cell": {
     "inputWidgets": {},
     "nuid": "163f32bc-3443-4b3c-b996-f9e5327f9797",
     "showTitle": false,
     "title": ""
    },
    "scrolled": true
   },
   "outputs": [
    {
     "data": {
      "text/plain": [
       "DataFrame[name: string, reviews_text: string, reviews_rating: int, label: int]"
      ]
     },
     "execution_count": 12,
     "metadata": {},
     "output_type": "execute_result"
    }
   ],
   "source": [
    "# print schema and cache the dataframe\n",
    "reviews.printSchema\n",
    "reviews.cache()"
   ]
  },
  {
   "cell_type": "code",
   "execution_count": 13,
   "metadata": {},
   "outputs": [
    {
     "name": "stdout",
     "output_type": "stream",
     "text": [
      "+----+------------+--------------+-----+\n",
      "|name|reviews_text|reviews_rating|label|\n",
      "+----+------------+--------------+-----+\n",
      "+----+------------+--------------+-----+\n",
      "\n"
     ]
    }
   ],
   "source": [
    "reviews.filter('label is null').show()"
   ]
  },
  {
   "cell_type": "markdown",
   "metadata": {
    "application/vnd.databricks.v1+cell": {
     "inputWidgets": {},
     "nuid": "ad6fce8a-9bdd-4702-af7f-e0909df3b968",
     "showTitle": false,
     "title": ""
    }
   },
   "source": [
    "## Data Exploration & Cleaning"
   ]
  },
  {
   "cell_type": "code",
   "execution_count": 14,
   "metadata": {
    "application/vnd.databricks.v1+cell": {
     "inputWidgets": {},
     "nuid": "7cea2d38-da6a-43e7-a93f-15c6e43d66d5",
     "showTitle": false,
     "title": ""
    }
   },
   "outputs": [
    {
     "name": "stdout",
     "output_type": "stream",
     "text": [
      "+-------+------------------+\n",
      "|summary|    reviews_rating|\n",
      "+-------+------------------+\n",
      "|  count|             33332|\n",
      "|   mean|4.5264610584423375|\n",
      "| stddev|0.9078587637518621|\n",
      "|    min|                 1|\n",
      "|    max|                 5|\n",
      "+-------+------------------+\n",
      "\n"
     ]
    }
   ],
   "source": [
    "reviews.select('reviews_rating').describe().show()"
   ]
  },
  {
   "cell_type": "code",
   "execution_count": 15,
   "metadata": {
    "application/vnd.databricks.v1+cell": {
     "inputWidgets": {},
     "nuid": "aff5289c-8122-4d79-b376-fa2f433ace7b",
     "showTitle": false,
     "title": ""
    }
   },
   "outputs": [
    {
     "name": "stdout",
     "output_type": "stream",
     "text": [
      "+--------------+-----+\n",
      "|reviews_rating|count|\n",
      "+--------------+-----+\n",
      "|             1| 1028|\n",
      "|             2|  670|\n",
      "|             3| 1403|\n",
      "|             4| 6856|\n",
      "|             5|23375|\n",
      "+--------------+-----+\n",
      "\n"
     ]
    }
   ],
   "source": [
    "# based on the above output, review sentiments appear relatively high. it is not uncommon to see consumers only offering reviews if they had a notably positive or negative experience with a product, or arbitrarily assigning polarized ratings (e.g 0 or 5) to products, which are issues we hope to address through removing the necessity of providing a numeric rating score. \n",
    "\n",
    "reviews.select('reviews_rating')\\\n",
    "    .groupBy('reviews_rating')\\\n",
    "    .count()\\\n",
    "    .orderBy('reviews_rating', ascending=True).show()"
   ]
  },
  {
   "cell_type": "code",
   "execution_count": 16,
   "metadata": {
    "application/vnd.databricks.v1+cell": {
     "inputWidgets": {},
     "nuid": "0e7b2951-1f37-492c-8167-7c5d0c25d057",
     "showTitle": false,
     "title": ""
    }
   },
   "outputs": [
    {
     "name": "stdout",
     "output_type": "stream",
     "text": [
      "+--------------+-----+\n",
      "|reviews_rating|count|\n",
      "+--------------+-----+\n",
      "|             1| 1028|\n",
      "|             2|  670|\n",
      "|             3| 1403|\n",
      "|             4| 6856|\n",
      "|             5|23375|\n",
      "+--------------+-----+\n",
      "\n"
     ]
    }
   ],
   "source": [
    "# based on the above output, it's clear we'll need to drop some flawed data points - any ratings that are null or not between 1 and 5. \n",
    "\n",
    "values_list = [0, 1, 2, 3, 4, 5]\n",
    "reviews = reviews.filter(reviews.reviews_rating.isin(values_list))\n",
    "\n",
    "reviews.select('reviews_rating')\\\n",
    "    .groupBy('reviews_rating')\\\n",
    "    .count()\\\n",
    "    .orderBy('reviews_rating', ascending=True).show()"
   ]
  },
  {
   "cell_type": "code",
   "execution_count": 17,
   "metadata": {
    "application/vnd.databricks.v1+cell": {
     "inputWidgets": {},
     "nuid": "1dac4014-7487-4ec3-afff-5ae65a583659",
     "showTitle": false,
     "title": ""
    }
   },
   "outputs": [
    {
     "name": "stdout",
     "output_type": "stream",
     "text": [
      "+-----+-----+\n",
      "|label|count|\n",
      "+-----+-----+\n",
      "|    0| 2403|\n",
      "|    1|30929|\n",
      "+-----+-----+\n",
      "\n"
     ]
    }
   ],
   "source": [
    "reviews.select('label')\\\n",
    "    .groupBy('label')\\\n",
    "    .count()\\\n",
    "    .orderBy('label', ascending=True).show()"
   ]
  },
  {
   "cell_type": "code",
   "execution_count": 18,
   "metadata": {
    "application/vnd.databricks.v1+cell": {
     "inputWidgets": {},
     "nuid": "96daf17f-ae95-41a7-a801-950a6c8f15b0",
     "showTitle": false,
     "title": ""
    }
   },
   "outputs": [
    {
     "name": "stdout",
     "output_type": "stream",
     "text": [
      "+--------------+-----+-----+\n",
      "|reviews_rating|label|count|\n",
      "+--------------+-----+-----+\n",
      "|             1|    0|  512|\n",
      "|             1|    1|  516|\n",
      "|             2|    1|  429|\n",
      "|             2|    0|  241|\n",
      "|             3|    0|  276|\n",
      "|             3|    1| 1127|\n",
      "|             4|    0|  397|\n",
      "|             4|    1| 6459|\n",
      "|             5|    0|  977|\n",
      "|             5|    1|22398|\n",
      "+--------------+-----+-----+\n",
      "\n"
     ]
    }
   ],
   "source": [
    "# viewing matched versus mismatched review_ratings to label\n",
    "\n",
    "reviews.select('reviews_rating','label')\\\n",
    "    .groupBy('reviews_rating','label')\\\n",
    "    .count()\\\n",
    "    .orderBy('reviews_rating', ascending=True)\\\n",
    "    .show()"
   ]
  },
  {
   "cell_type": "code",
   "execution_count": 19,
   "metadata": {
    "application/vnd.databricks.v1+cell": {
     "inputWidgets": {},
     "nuid": "18f8fcc1-f02f-4aed-b8b5-e82b78cf2dd1",
     "showTitle": false,
     "title": ""
    }
   },
   "outputs": [
    {
     "data": {
      "text/plain": [
       "DataFrame[name: string, count: bigint]"
      ]
     },
     "metadata": {},
     "output_type": "display_data"
    }
   ],
   "source": [
    "# as mentioned above, reviews are frequently submitted due to strong positive or negative experiences with a product. examining whether any specific products received a disproportionate share of reviews may offer additional insight into our data\n",
    "\n",
    "display(reviews.select('name','reviews_rating').groupBy('name').count())"
   ]
  },
  {
   "cell_type": "code",
   "execution_count": 20,
   "metadata": {
    "application/vnd.databricks.v1+cell": {
     "inputWidgets": {},
     "nuid": "7126d5f1-98fe-4a1c-a051-3262f8db79c1",
     "showTitle": false,
     "title": ""
    }
   },
   "outputs": [
    {
     "data": {
      "text/plain": [
       "DataFrame[name: string, avg(reviews_rating): double]"
      ]
     },
     "metadata": {},
     "output_type": "display_data"
    }
   ],
   "source": [
    "# clearly, Amazon AAA batteries receive substantially more reviews than other products included in this dataset! it may be interesting to compare the above chart to a similar visualization displaying the average rating score given to each product.\n",
    "\n",
    "display(reviews.select('name', 'reviews_rating').groupBy('name').avg())"
   ]
  },
  {
   "cell_type": "code",
   "execution_count": 21,
   "metadata": {
    "application/vnd.databricks.v1+cell": {
     "inputWidgets": {},
     "nuid": "de59b668-a55a-429a-9aef-610043a774ff",
     "showTitle": false,
     "title": ""
    }
   },
   "outputs": [
    {
     "data": {
      "text/plain": [
       "DataFrame[name: string, avg(length(reviews_text)): double, avg(reviews_rating): double]"
      ]
     },
     "metadata": {},
     "output_type": "display_data"
    }
   ],
   "source": [
    "# finally, given our interest in using solely text-based response data to generate product ratings, an important consideration will be whether length of review is related to numeric rating. \n",
    "\n",
    "display(reviews.select('name',length('reviews_text'),'reviews_rating').groupBy('name').avg())\n",
    "\n",
    "# consider - correlation matrix / heatmap"
   ]
  },
  {
   "cell_type": "markdown",
   "metadata": {
    "application/vnd.databricks.v1+cell": {
     "inputWidgets": {},
     "nuid": "fdef1eb4-e3e9-468c-9354-1d520ea52c8d",
     "showTitle": false,
     "title": ""
    }
   },
   "source": [
    "## Setting up data for the model"
   ]
  },
  {
   "cell_type": "code",
   "execution_count": 22,
   "metadata": {
    "application/vnd.databricks.v1+cell": {
     "inputWidgets": {},
     "nuid": "0de5b92e-8430-4ed6-b23d-b7e043f9667a",
     "showTitle": false,
     "title": ""
    }
   },
   "outputs": [],
   "source": [
    "# split the data - may need to change the split\n",
    "train_set, test_set = reviews.randomSplit([0.7, 0.3], seed=5)"
   ]
  },
  {
   "cell_type": "code",
   "execution_count": 23,
   "metadata": {
    "application/vnd.databricks.v1+cell": {
     "inputWidgets": {},
     "nuid": "f6a02153-595b-4032-9cb2-df04d9f7abe8",
     "showTitle": false,
     "title": ""
    }
   },
   "outputs": [],
   "source": [
    "# pipeline\n",
    "model = pipeline.fit(train_set)\n",
    "train_df = model.transform(train_set)\n",
    "test_df = model.transform(test_set)"
   ]
  },
  {
   "cell_type": "markdown",
   "metadata": {
    "application/vnd.databricks.v1+cell": {
     "inputWidgets": {},
     "nuid": "7d638a74-7180-4d47-8b4e-1b49489c939e",
     "showTitle": false,
     "title": ""
    }
   },
   "source": [
    "## Logistic Regression"
   ]
  },
  {
   "cell_type": "code",
   "execution_count": 24,
   "metadata": {
    "application/vnd.databricks.v1+cell": {
     "inputWidgets": {},
     "nuid": "c53ab06c-43eb-4e59-afe7-8c59662a3dce",
     "showTitle": false,
     "title": ""
    }
   },
   "outputs": [],
   "source": [
    "# train the logistic regression model\n",
    "log_reg = LogisticRegression(labelCol=\"label\", featuresCol=\"hashingTF\", \n",
    "                        maxIter=50, regParam=0.3)\n",
    "lr_model = log_reg.fit(train_df)"
   ]
  },
  {
   "cell_type": "code",
   "execution_count": 25,
   "metadata": {
    "application/vnd.databricks.v1+cell": {
     "inputWidgets": {},
     "nuid": "92197609-8e91-4ad3-8948-826ac7d4cc7e",
     "showTitle": false,
     "title": ""
    },
    "scrolled": false
   },
   "outputs": [
    {
     "name": "stdout",
     "output_type": "stream",
     "text": [
      "+--------------+----------+-----+-----+\n",
      "|reviews_rating|prediction|label|count|\n",
      "+--------------+----------+-----+-----+\n",
      "|             1|       0.0|    1|    8|\n",
      "|             1|       1.0|    0|  117|\n",
      "|             1|       1.0|    1|  145|\n",
      "|             1|       0.0|    0|   38|\n",
      "|             2|       0.0|    0|   14|\n",
      "|             2|       1.0|    0|   58|\n",
      "|             2|       1.0|    1|  111|\n",
      "|             2|       0.0|    1|    1|\n",
      "|             3|       0.0|    0|    4|\n",
      "|             3|       1.0|    0|   75|\n",
      "|             3|       1.0|    1|  366|\n",
      "|             4|       1.0|    1| 1909|\n",
      "|             4|       0.0|    0|    7|\n",
      "|             4|       1.0|    0|  114|\n",
      "|             5|       0.0|    0|   18|\n",
      "|             5|       1.0|    0|  269|\n",
      "|             5|       1.0|    1| 6783|\n",
      "|             5|       0.0|    1|    2|\n",
      "+--------------+----------+-----+-----+\n",
      "\n"
     ]
    }
   ],
   "source": [
    "# run the logistic regression model\n",
    "lr_predict = lr_model.transform(test_df)\n",
    "lr_final = lr_predict.select(\"name\", \"reviews_rating\", \"prediction\", \"label\")\n",
    "lr_final\\\n",
    "    .groupBy('reviews_rating','prediction', 'label')\\\n",
    "    .count()\\\n",
    "    .distinct()\\\n",
    "    .orderBy('reviews_rating', ascending=True)\\\n",
    "    .show()"
   ]
  },
  {
   "cell_type": "code",
   "execution_count": 26,
   "metadata": {
    "application/vnd.databricks.v1+cell": {
     "inputWidgets": {},
     "nuid": "68ea723b-53f2-476c-a3ba-c3d25c87a91c",
     "showTitle": false,
     "title": ""
    }
   },
   "outputs": [
    {
     "name": "stdout",
     "output_type": "stream",
     "text": [
      "Correct Prediction: 9395 , Total: 10039 , Accuracy Rate: 0.935850184281303\n"
     ]
    }
   ],
   "source": [
    "lr_correct = lr_final\\\n",
    "    .filter(lr_final.prediction == lr_final.label)\\\n",
    "    .count()\n",
    "\n",
    "lr_total = lr_final.count()\n",
    "\n",
    "print(\"Correct Prediction:\", lr_correct, \", Total:\", lr_total, \n",
    "      \", Accuracy Rate:\", lr_correct/lr_total)"
   ]
  },
  {
   "cell_type": "code",
   "execution_count": 27,
   "metadata": {},
   "outputs": [
    {
     "data": {
      "text/plain": [
       "<AxesSubplot:>"
      ]
     },
     "execution_count": 27,
     "metadata": {},
     "output_type": "execute_result"
    },
    {
     "data": {
      "image/png": "[encoded data removed]",
      "text/plain": [
       "<Figure size 432x288 with 2 Axes>"
      ]
     },
     "metadata": {
      "needs_background": "light"
     },
     "output_type": "display_data"
    }
   ],
   "source": [
    "#confusing matrix\n",
    "from sklearn.metrics import confusion_matrix\n",
    "import matplotlib.pyplot as plt\n",
    "import numpy as np\n",
    "import seaborn as sns\n",
    "\n",
    "pddf = lr_final.toPandas()\n",
    "\n",
    "y_pred = pddf['prediction']\n",
    "y_act = pddf['label']\n",
    "\n",
    "cf_matrix = confusion_matrix(y_act, y_pred)\n",
    "\n",
    "\n",
    "group_names = ['True Neg','False Pos','False Neg','True Pos']\n",
    "group_counts = ['{0:0.0f}'.format(value) for value in\n",
    "                cf_matrix.flatten()]\n",
    "group_percentages = ['{0:.2%}'.format(value) for value in\n",
    "                     cf_matrix.flatten()/np.sum(cf_matrix)]\n",
    "labels = [f'{v1}\\n{v2}\\n{v3}' for v1, v2, v3 in\n",
    "          zip(group_names,group_counts,group_percentages)]\n",
    "labels = np.asarray(labels).reshape(2,2)\n",
    "sns.heatmap(cf_matrix, annot=labels, fmt='', cmap='Blues')"
   ]
  },
  {
   "cell_type": "markdown",
   "metadata": {
    "application/vnd.databricks.v1+cell": {
     "inputWidgets": {},
     "nuid": "e5f3727a-1f57-4f23-9b77-9480d7539368",
     "showTitle": false,
     "title": ""
    }
   },
   "source": [
    "## Visualizing the Model"
   ]
  },
  {
   "cell_type": "code",
   "execution_count": 28,
   "metadata": {
    "application/vnd.databricks.v1+cell": {
     "inputWidgets": {},
     "nuid": "edec6732-2c0b-4e5f-80be-ac4a4144012e",
     "showTitle": false,
     "title": ""
    }
   },
   "outputs": [
    {
     "data": {
      "text/plain": [
       "DataFrame[name: string, avg(prediction): double, avg(label): double]"
      ]
     },
     "metadata": {},
     "output_type": "display_data"
    }
   ],
   "source": [
    "# we can visualize our model's average ratings for each product relative to their actual average rating to get a sense of its accuracy\n",
    "\n",
    "display(lr_final.select('name', 'prediction', 'label').groupBy('name').avg())"
   ]
  },
  {
   "cell_type": "code",
   "execution_count": 29,
   "metadata": {
    "application/vnd.databricks.v1+cell": {
     "inputWidgets": {},
     "nuid": "e7bef0fb-9352-4dcd-a077-0a9558d72acf",
     "showTitle": false,
     "title": ""
    }
   },
   "outputs": [],
   "source": [
    "# we will next convert our DataFrame to a Pandas DF for further visualization analysis\n",
    "\n",
    "PandasDF = lr_final.toPandas()\n",
    "\n",
    "PandasDF_raw = raw_data.select(\"reviews_text\").toPandas()\n",
    "\n",
    "# adding raw review text column\n",
    "PandasDF['RawText'] = PandasDF_raw['reviews_text'].astype(str)"
   ]
  },
  {
   "cell_type": "code",
   "execution_count": 30,
   "metadata": {
    "application/vnd.databricks.v1+cell": {
     "inputWidgets": {},
     "nuid": "735fb9cd-965f-4a91-9114-a14566561d63",
     "showTitle": false,
     "title": ""
    }
   },
   "outputs": [
    {
     "data": {
      "text/html": [
       "<div>\n",
       "<style scoped>\n",
       "    .dataframe tbody tr th:only-of-type {\n",
       "        vertical-align: middle;\n",
       "    }\n",
       "\n",
       "    .dataframe tbody tr th {\n",
       "        vertical-align: top;\n",
       "    }\n",
       "\n",
       "    .dataframe thead th {\n",
       "        text-align: right;\n",
       "    }\n",
       "</style>\n",
       "<table border=\"1\" class=\"dataframe\">\n",
       "  <thead>\n",
       "    <tr style=\"text-align: right;\">\n",
       "      <th></th>\n",
       "      <th>Count</th>\n",
       "      <th>Word</th>\n",
       "    </tr>\n",
       "  </thead>\n",
       "  <tbody>\n",
       "    <tr>\n",
       "      <th>the</th>\n",
       "      <td>8168</td>\n",
       "      <td>the</td>\n",
       "    </tr>\n",
       "    <tr>\n",
       "      <th>and</th>\n",
       "      <td>6088</td>\n",
       "      <td>and</td>\n",
       "    </tr>\n",
       "    <tr>\n",
       "      <th>i</th>\n",
       "      <td>5658</td>\n",
       "      <td>i</td>\n",
       "    </tr>\n",
       "    <tr>\n",
       "      <th>to</th>\n",
       "      <td>5628</td>\n",
       "      <td>to</td>\n",
       "    </tr>\n",
       "    <tr>\n",
       "      <th>a</th>\n",
       "      <td>4524</td>\n",
       "      <td>a</td>\n",
       "    </tr>\n",
       "    <tr>\n",
       "      <th>it</th>\n",
       "      <td>4506</td>\n",
       "      <td>it</td>\n",
       "    </tr>\n",
       "    <tr>\n",
       "      <th>for</th>\n",
       "      <td>4431</td>\n",
       "      <td>for</td>\n",
       "    </tr>\n",
       "    <tr>\n",
       "      <th>is</th>\n",
       "      <td>3101</td>\n",
       "      <td>is</td>\n",
       "    </tr>\n",
       "    <tr>\n",
       "      <th>my</th>\n",
       "      <td>3010</td>\n",
       "      <td>my</td>\n",
       "    </tr>\n",
       "    <tr>\n",
       "      <th>great</th>\n",
       "      <td>2881</td>\n",
       "      <td>great</td>\n",
       "    </tr>\n",
       "    <tr>\n",
       "      <th>this</th>\n",
       "      <td>2599</td>\n",
       "      <td>this</td>\n",
       "    </tr>\n",
       "    <tr>\n",
       "      <th>batteries</th>\n",
       "      <td>2368</td>\n",
       "      <td>batteries</td>\n",
       "    </tr>\n",
       "    <tr>\n",
       "      <th>of</th>\n",
       "      <td>2260</td>\n",
       "      <td>of</td>\n",
       "    </tr>\n",
       "    <tr>\n",
       "      <th>as</th>\n",
       "      <td>2230</td>\n",
       "      <td>as</td>\n",
       "    </tr>\n",
       "    <tr>\n",
       "      <th>good</th>\n",
       "      <td>2015</td>\n",
       "      <td>good</td>\n",
       "    </tr>\n",
       "    <tr>\n",
       "      <th>in</th>\n",
       "      <td>1781</td>\n",
       "      <td>in</td>\n",
       "    </tr>\n",
       "    <tr>\n",
       "      <th>with</th>\n",
       "      <td>1760</td>\n",
       "      <td>with</td>\n",
       "    </tr>\n",
       "    <tr>\n",
       "      <th>have</th>\n",
       "      <td>1599</td>\n",
       "      <td>have</td>\n",
       "    </tr>\n",
       "    <tr>\n",
       "      <th>price</th>\n",
       "      <td>1577</td>\n",
       "      <td>price</td>\n",
       "    </tr>\n",
       "    <tr>\n",
       "      <th>they</th>\n",
       "      <td>1473</td>\n",
       "      <td>they</td>\n",
       "    </tr>\n",
       "    <tr>\n",
       "      <th>on</th>\n",
       "      <td>1449</td>\n",
       "      <td>on</td>\n",
       "    </tr>\n",
       "    <tr>\n",
       "      <th>that</th>\n",
       "      <td>1398</td>\n",
       "      <td>that</td>\n",
       "    </tr>\n",
       "    <tr>\n",
       "      <th>but</th>\n",
       "      <td>1291</td>\n",
       "      <td>but</td>\n",
       "    </tr>\n",
       "    <tr>\n",
       "      <th>so</th>\n",
       "      <td>1257</td>\n",
       "      <td>so</td>\n",
       "    </tr>\n",
       "    <tr>\n",
       "      <th>you</th>\n",
       "      <td>1241</td>\n",
       "      <td>you</td>\n",
       "    </tr>\n",
       "  </tbody>\n",
       "</table>\n",
       "</div>"
      ],
      "text/plain": [
       "           Count       Word\n",
       "the         8168        the\n",
       "and         6088        and\n",
       "i           5658          i\n",
       "to          5628         to\n",
       "a           4524          a\n",
       "it          4506         it\n",
       "for         4431        for\n",
       "is          3101         is\n",
       "my          3010         my\n",
       "great       2881      great\n",
       "this        2599       this\n",
       "batteries   2368  batteries\n",
       "of          2260         of\n",
       "as          2230         as\n",
       "good        2015       good\n",
       "in          1781         in\n",
       "with        1760       with\n",
       "have        1599       have\n",
       "price       1577      price\n",
       "they        1473       they\n",
       "on          1449         on\n",
       "that        1398       that\n",
       "but         1291        but\n",
       "so          1257         so\n",
       "you         1241        you"
      ]
     },
     "execution_count": 30,
     "metadata": {},
     "output_type": "execute_result"
    }
   ],
   "source": [
    "# we can now divide reviews into positive and negative sentiments to examine key word distribution across each, allowing us to identify specific words frequently cited in consumer reviews\n",
    "\n",
    "Pos_Reviews = PandasDF[PandasDF['label'] == 1] #assigning reviews to positive and negative sentiment categories\n",
    "Neg_Reviews = PandasDF[PandasDF['label'] == 0]\n",
    "\n",
    "mostfrequent_pos = pd.Series(' '.join(Pos_Reviews['RawText']).lower().split()).value_counts()[:100]\n",
    "mostfrequent_neg = pd.Series(' '.join(Neg_Reviews['RawText']).lower().split()).value_counts()[:100]\n",
    "mostfrequent_pos_list = mostfrequent_pos.tolist() #converting to list for later filtering\n",
    "mostfrequent_neg_list = mostfrequent_neg.tolist()\n",
    "\n",
    "positive_df = pd.DataFrame([mostfrequent_pos]) #creating a positive reviews dataframe to examine\n",
    "pos_df_transposed = positive_df.transpose()\n",
    "pos_df_transposed.columns = [\"Count\"]\n",
    "pos_df_transposed['Word'] = pos_df_transposed.index\n",
    "pos_df_transposed[:25] #display top 25 most used words in positive reviews"
   ]
  },
  {
   "cell_type": "code",
   "execution_count": 31,
   "metadata": {
    "application/vnd.databricks.v1+cell": {
     "inputWidgets": {},
     "nuid": "e6f94ad5-a71b-4051-a935-fa7fd2752ec0",
     "showTitle": false,
     "title": ""
    }
   },
   "outputs": [
    {
     "data": {
      "text/html": [
       "<div>\n",
       "<style scoped>\n",
       "    .dataframe tbody tr th:only-of-type {\n",
       "        vertical-align: middle;\n",
       "    }\n",
       "\n",
       "    .dataframe tbody tr th {\n",
       "        vertical-align: top;\n",
       "    }\n",
       "\n",
       "    .dataframe thead th {\n",
       "        text-align: right;\n",
       "    }\n",
       "</style>\n",
       "<table border=\"1\" class=\"dataframe\">\n",
       "  <thead>\n",
       "    <tr style=\"text-align: right;\">\n",
       "      <th></th>\n",
       "      <th>Count</th>\n",
       "      <th>Word</th>\n",
       "    </tr>\n",
       "  </thead>\n",
       "  <tbody>\n",
       "    <tr>\n",
       "      <th>great</th>\n",
       "      <td>2881</td>\n",
       "      <td>great</td>\n",
       "    </tr>\n",
       "    <tr>\n",
       "      <th>batteries</th>\n",
       "      <td>2368</td>\n",
       "      <td>batteries</td>\n",
       "    </tr>\n",
       "    <tr>\n",
       "      <th>good</th>\n",
       "      <td>2015</td>\n",
       "      <td>good</td>\n",
       "    </tr>\n",
       "    <tr>\n",
       "      <th>price</th>\n",
       "      <td>1577</td>\n",
       "      <td>price</td>\n",
       "    </tr>\n",
       "    <tr>\n",
       "      <th>use</th>\n",
       "      <td>1174</td>\n",
       "      <td>use</td>\n",
       "    </tr>\n",
       "    <tr>\n",
       "      <th>...</th>\n",
       "      <td>...</td>\n",
       "      <td>...</td>\n",
       "    </tr>\n",
       "    <tr>\n",
       "      <th>dont</th>\n",
       "      <td>343</td>\n",
       "      <td>dont</td>\n",
       "    </tr>\n",
       "    <tr>\n",
       "      <th>far</th>\n",
       "      <td>341</td>\n",
       "      <td>far</td>\n",
       "    </tr>\n",
       "    <tr>\n",
       "      <th>purchased</th>\n",
       "      <td>338</td>\n",
       "      <td>purchased</td>\n",
       "    </tr>\n",
       "    <tr>\n",
       "      <th>about</th>\n",
       "      <td>330</td>\n",
       "      <td>about</td>\n",
       "    </tr>\n",
       "    <tr>\n",
       "      <th>show</th>\n",
       "      <td>328</td>\n",
       "      <td>show</td>\n",
       "    </tr>\n",
       "  </tbody>\n",
       "</table>\n",
       "<p>61 rows × 2 columns</p>\n",
       "</div>"
      ],
      "text/plain": [
       "           Count       Word\n",
       "great       2881      great\n",
       "batteries   2368  batteries\n",
       "good        2015       good\n",
       "price       1577      price\n",
       "use         1174        use\n",
       "...          ...        ...\n",
       "dont         343       dont\n",
       "far          341        far\n",
       "purchased    338  purchased\n",
       "about        330      about\n",
       "show         328       show\n",
       "\n",
       "[61 rows x 2 columns]"
      ]
     },
     "execution_count": 31,
     "metadata": {},
     "output_type": "execute_result"
    }
   ],
   "source": [
    "# clearly, stop words make up the immense bulk of words within reviews, as would be expected. we will therefore remove these stopwords using two methods: first, by directly specifying the stop words we want to remove, and second, by removing any words that are within the top 100 most used words in both positive and negative reviews. \n",
    "\n",
    "stopwords = [\"the\", \"to\", \"and\", \"i\", \"it\", \"for\", \"a\", \"is\", \"my\", \"this\", \"with\", \"of\", \"have\", \"on\", \"that\", \"in\", \"you\", \"was\", \"but\", \"can\",\n",
    "            \"as\", \"so\", \"than\", \"am\", \"does\", \"we\", \"very\", \"not\", \"she\", \"it\", \"be\", \"all\", \"they\", \"it.\", \"has\", \"from\", \"just\", \"an\", \"it's\",\n",
    "            \"get\", \"at\", \"are\", \"when\", \"he\", \"she\", \"or\", \"your\"]\n",
    "pos_df_transposed = pos_df_transposed[~pos_df_transposed['Word'].isin(stopwords) & ~pos_df_transposed['Word'].isin(mostfrequent_neg_list)]\n",
    "pos_df_transposed"
   ]
  },
  {
   "cell_type": "code",
   "execution_count": 32,
   "metadata": {
    "application/vnd.databricks.v1+cell": {
     "inputWidgets": {},
     "nuid": "65b4ed05-8eb3-472d-93cb-63467bd2dc26",
     "showTitle": false,
     "title": ""
    }
   },
   "outputs": [
    {
     "data": {
      "text/plain": [
       "Text(0.5, 1.0, 'Most Frequently Used Words: Positive Reviews')"
      ]
     },
     "execution_count": 32,
     "metadata": {},
     "output_type": "execute_result"
    },
    {
     "data": {
      "image/png": "[encoded data removed]",
      "text/plain": [
       "<Figure size 1080x432 with 1 Axes>"
      ]
     },
     "metadata": {},
     "output_type": "display_data"
    }
   ],
   "source": [
    "# finally, we can visually the top 20 most frequently used words in positive reviews\n",
    "\n",
    "sns.set(rc={'figure.figsize':(15,6)})\n",
    "sns.set_style(\"whitegrid\")\n",
    "sns.barplot(x='Word', y='Count', data=pos_df_transposed[:20], palette='deep')\n",
    "plt.title(\"Most Frequently Used Words: Positive Reviews\")"
   ]
  },
  {
   "cell_type": "code",
   "execution_count": 33,
   "metadata": {
    "application/vnd.databricks.v1+cell": {
     "inputWidgets": {},
     "nuid": "7d91c8d5-2cc7-412e-a498-c80437da6e97",
     "showTitle": false,
     "title": ""
    }
   },
   "outputs": [
    {
     "data": {
      "text/plain": [
       "Text(0.5, 1.0, 'Most Frequently Used Words: Negative Reviews')"
      ]
     },
     "execution_count": 33,
     "metadata": {},
     "output_type": "execute_result"
    },
    {
     "data": {
      "image/png": "[encoded data removed]",
      "text/plain": [
       "<Figure size 1080x432 with 1 Axes>"
      ]
     },
     "metadata": {},
     "output_type": "display_data"
    }
   ],
   "source": [
    "# we can repeat a similar process for negative reviews\n",
    "\n",
    "negative_df = pd.DataFrame([mostfrequent_neg]) \n",
    "neg_df_transposed = negative_df.transpose()\n",
    "neg_df_transposed.columns = [\"Count\"]\n",
    "neg_df_transposed['Word'] = neg_df_transposed.index\n",
    "neg_df_transposed[:25] \n",
    "\n",
    "neg_df_transposed = neg_df_transposed[~neg_df_transposed['Word'].isin(stopwords) & ~neg_df_transposed['Word'].isin(mostfrequent_pos_list)]\n",
    "neg_df_transposed\n",
    "\n",
    "sns.barplot(x='Word', y='Count', data=neg_df_transposed[:20], palette='deep')\n",
    "plt.title(\"Most Frequently Used Words: Negative Reviews\")"
   ]
  },
  {
   "cell_type": "code",
   "execution_count": null,
   "metadata": {
    "application/vnd.databricks.v1+cell": {
     "inputWidgets": {},
     "nuid": "7137607c-149b-4896-a982-2b3d7348bd40",
     "showTitle": false,
     "title": ""
    }
   },
   "outputs": [],
   "source": []
  },
  {
   "cell_type": "code",
   "execution_count": null,
   "metadata": {},
   "outputs": [],
   "source": []
  }
 ],
 "metadata": {
  "application/vnd.databricks.v1+notebook": {
   "dashboards": [],
   "language": "python",
   "notebookMetadata": {
    "pythonIndentUnit": 2
   },
   "notebookName": "DATA603 - Final Project",
   "notebookOrigID": 1084037558145362,
   "widgets": {}
  },
  "kernelspec": {
   "display_name": "Python 3",
   "language": "python",
   "name": "python3"
  },
  "language_info": {
   "codemirror_mode": {
    "name": "ipython",
    "version": 3
   },
   "file_extension": ".py",
   "mimetype": "text/x-python",
   "name": "python",
   "nbconvert_exporter": "python",
   "pygments_lexer": "ipython3",
   "version": "3.8.5"
  }
 },
 "nbformat": 4,
 "nbformat_minor": 1
}
