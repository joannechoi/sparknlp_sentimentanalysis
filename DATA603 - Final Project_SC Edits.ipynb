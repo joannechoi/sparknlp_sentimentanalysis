{
 "cells": [
  {
   "cell_type": "markdown",
   "metadata": {
    "application/vnd.databricks.v1+cell": {
     "inputWidgets": {},
     "nuid": "a5951c26-fecc-4a4c-9aae-9f9358fd97f7",
     "showTitle": false,
     "title": ""
    }
   },
   "source": [
    "# Amazon Review Sentiment Analysis"
   ]
  },
  {
   "cell_type": "code",
   "execution_count": 26,
   "metadata": {
    "application/vnd.databricks.v1+cell": {
     "inputWidgets": {},
     "nuid": "f6ed9022-2bc6-49e4-bf4f-4a9cfcf986d2",
     "showTitle": false,
     "title": ""
    }
   },
   "outputs": [],
   "source": [
    "from textblob import TextBlob\n",
    "from pyspark.sql import SparkSession\n",
    "from pyspark.sql.types import *\n",
    "from pyspark.ml import *\n",
    "from pyspark.ml.classification import *\n",
    "from pyspark.ml.feature import *\n",
    "from pyspark.ml.param import *\n",
    "from pyspark.ml.tuning import *\n",
    "from pyspark.ml.evaluation import *\n",
    "from pyspark.sql.types import DoubleType\n",
    "from pyspark.sql.functions import * \n",
    "from sklearn.metrics import classification_report\n",
    "from time import time\n",
    "from pyspark import SparkContext, SparkConf\n",
    "from pyspark.sql import SQLContext, Row\n",
    "import pandas as pd\n",
    "import seaborn as sns\n",
    "import matplotlib.pyplot as plt\n",
    "\n",
    "from pyspark.ml.regression import RandomForestRegressor"
   ]
  },
  {
   "cell_type": "markdown",
   "metadata": {
    "application/vnd.databricks.v1+cell": {
     "inputWidgets": {},
     "nuid": "0efdf6dd-e6da-4d8b-b332-8654598be1d2",
     "showTitle": false,
     "title": ""
    }
   },
   "source": [
    "## Start Spark Session"
   ]
  },
  {
   "cell_type": "code",
   "execution_count": 2,
   "metadata": {
    "application/vnd.databricks.v1+cell": {
     "inputWidgets": {},
     "nuid": "6aa89b52-2cd7-4376-a7d1-f0d997aaef1c",
     "showTitle": false,
     "title": ""
    }
   },
   "outputs": [],
   "source": [
    "spark = SparkSession\\\n",
    "    .builder\\\n",
    "    .getOrCreate()"
   ]
  },
  {
   "cell_type": "markdown",
   "metadata": {
    "application/vnd.databricks.v1+cell": {
     "inputWidgets": {},
     "nuid": "8f68f350-1a57-4320-89d1-92ab7c3990b6",
     "showTitle": false,
     "title": ""
    }
   },
   "source": [
    "## Create schema"
   ]
  },
  {
   "cell_type": "code",
   "execution_count": 3,
   "metadata": {
    "application/vnd.databricks.v1+cell": {
     "inputWidgets": {},
     "nuid": "30827608-d856-4d5d-820e-98fc9825b3d6",
     "showTitle": false,
     "title": ""
    }
   },
   "outputs": [],
   "source": [
    "schema = StructType([\n",
    "    StructField(\"id\", StringType(), True),\n",
    "    StructField(\"dateAdded\", StringType(), True),\n",
    "    StructField(\"dateUpdated\", StringType(), True),\n",
    "    StructField(\"name\", StringType(), True),\n",
    "    StructField(\"asins\", StringType(), True),\n",
    "    StructField(\"brand\", StringType(), True),\n",
    "    StructField(\"categories\", StringType(), True),\n",
    "    StructField(\"primaryCategories\", StringType(), True),\n",
    "    StructField(\"imageURLs\", StringType(), True),\n",
    "    StructField(\"keys\", StringType(), True),\n",
    "    StructField(\"manufacturer\", StringType(), True),\n",
    "    StructField(\"manufacturerNumber\", StringType(), True),\n",
    "    StructField(\"reviews.date\", StringType(), True),\n",
    "    StructField(\"reviews.dateAdded\", StringType(), True),\n",
    "    StructField(\"reviews.dateSeen\", StringType(), True),\n",
    "    StructField(\"reviews.doRecommend\", StringType(), True),\n",
    "    StructField(\"reviews.id\", StringType(), True),\n",
    "    StructField(\"reviews.numHelpful\", StringType(), True),\n",
    "    StructField(\"reviews.rating\", IntegerType(), True),\n",
    "    StructField(\"reviews.sourceURLs\", StringType(), True),\n",
    "    StructField(\"reviews.text\", StringType(), True),\n",
    "    StructField(\"reviews.title\", StringType(), True),\n",
    "    StructField(\"reviews.username\", StringType(), True),\n",
    "    StructField(\"sourceURLs\", StringType(), True)])"
   ]
  },
  {
   "cell_type": "markdown",
   "metadata": {
    "application/vnd.databricks.v1+cell": {
     "inputWidgets": {},
     "nuid": "4a285ebc-6b61-4de5-858f-9c46cac7f6c8",
     "showTitle": false,
     "title": ""
    }
   },
   "source": [
    "## Import & Combine Data"
   ]
  },
  {
   "cell_type": "code",
   "execution_count": 4,
   "metadata": {
    "application/vnd.databricks.v1+cell": {
     "inputWidgets": {},
     "nuid": "f27a1269-f8b1-4c71-9bd2-5d21ef2880c2",
     "showTitle": false,
     "title": ""
    }
   },
   "outputs": [],
   "source": [
    "raw_data1 = spark.read.format(\"csv\")\\\n",
    "    .option(\"header\", \"true\")\\\n",
    "    .option(\"delimiter\", \",\")\\\n",
    "    .schema(schema)\\\n",
    "    .csv('/Users/samuelclark/Documents/UMBC Data Science /Platforms for Big Data Processing/Final Project/Analysis/Raw/archive/Datafiniti_Amazon_Consumer_Reviews_of_Amazon_Products.csv')\n",
    "\n",
    "raw_data2 = spark.read.format(\"csv\")\\\n",
    "    .option(\"header\", \"true\")\\\n",
    "    .option(\"delimiter\", \",\")\\\n",
    "    .schema(schema)\\\n",
    "    .csv(\"/Users/samuelclark/Documents/UMBC Data Science /Platforms for Big Data Processing/Final Project/Analysis/Raw/archive/Datafiniti_Amazon_Consumer_Reviews_of_Amazon_Products_May19.csv\")\n",
    "\n",
    "raw_data = raw_data1.union(raw_data2) #concatentating the second dataset to the first\n",
    "\n",
    "for name in raw_data.schema.names:\n",
    "      raw_data = raw_data.withColumnRenamed(name, name.replace('.', '_')) #cleaning up column names"
   ]
  },
  {
   "cell_type": "code",
   "execution_count": 5,
   "metadata": {
    "application/vnd.databricks.v1+cell": {
     "inputWidgets": {},
     "nuid": "39df9999-a5df-4f41-acd4-a0f146009c3c",
     "showTitle": false,
     "title": ""
    }
   },
   "outputs": [
    {
     "data": {
      "text/plain": [
       "DataFrame[id: string, dateAdded: string, dateUpdated: string, name: string, asins: string, brand: string, categories: string, primaryCategories: string, imageURLs: string, keys: string, manufacturer: string, manufacturerNumber: string, reviews_date: string, reviews_dateAdded: string, reviews_dateSeen: string, reviews_doRecommend: string, reviews_id: string, reviews_numHelpful: string, reviews_rating: int, reviews_sourceURLs: string, reviews_text: string, reviews_title: string, reviews_username: string, sourceURLs: string]"
      ]
     },
     "execution_count": 5,
     "metadata": {},
     "output_type": "execute_result"
    }
   ],
   "source": [
    "raw_data.cache()"
   ]
  },
  {
   "cell_type": "markdown",
   "metadata": {
    "application/vnd.databricks.v1+cell": {
     "inputWidgets": {},
     "nuid": "6b8869f5-da52-4c7d-886e-d911ede3bf5b",
     "showTitle": false,
     "title": ""
    }
   },
   "source": [
    "## Sentiment Analysis"
   ]
  },
  {
   "cell_type": "code",
   "execution_count": 6,
   "metadata": {
    "application/vnd.databricks.v1+cell": {
     "inputWidgets": {},
     "nuid": "0909b5f4-e237-4546-93ca-8a2565b95349",
     "showTitle": false,
     "title": ""
    }
   },
   "outputs": [],
   "source": [
    "def textblob_udf(text):\n",
    "    result = TextBlob(text).sentiment[0] #use the polarity to decide user's opinion\n",
    "    if result >= 0.0:\n",
    "        return 1.0\n",
    "    else:\n",
    "        return 0.0 \n",
    "    \n",
    "sentiment = udf(textblob_udf) #register udf"
   ]
  },
  {
   "cell_type": "code",
   "execution_count": 7,
   "metadata": {
    "application/vnd.databricks.v1+cell": {
     "inputWidgets": {},
     "nuid": "8a0d9627-1811-40f0-b567-47721e63e0ea",
     "showTitle": false,
     "title": ""
    }
   },
   "outputs": [],
   "source": [
    "# create label column with the polarity values\n",
    "reviews = raw_data.withColumn(\"label\", sentiment(raw_data['reviews_text']))\\\n",
    "    .select('name','reviews_text','reviews_rating','label')"
   ]
  },
  {
   "cell_type": "code",
   "execution_count": 8,
   "metadata": {
    "application/vnd.databricks.v1+cell": {
     "inputWidgets": {},
     "nuid": "d77c8a11-f62c-4463-a59a-84db9fba8d6c",
     "showTitle": false,
     "title": ""
    }
   },
   "outputs": [],
   "source": [
    "# convert the label data from StringType to IntegerType\n",
    "reviews = reviews\\\n",
    "    .withColumn('label', reviews['label'].cast(IntegerType()))"
   ]
  },
  {
   "cell_type": "code",
   "execution_count": 9,
   "metadata": {
    "application/vnd.databricks.v1+cell": {
     "inputWidgets": {},
     "nuid": "163f32bc-3443-4b3c-b996-f9e5327f9797",
     "showTitle": false,
     "title": ""
    },
    "scrolled": true
   },
   "outputs": [
    {
     "data": {
      "text/plain": [
       "DataFrame[name: string, reviews_text: string, reviews_rating: int, label: int]"
      ]
     },
     "execution_count": 9,
     "metadata": {},
     "output_type": "execute_result"
    }
   ],
   "source": [
    "# print schema and cache the dataframe\n",
    "reviews.printSchema\n",
    "reviews.cache()"
   ]
  },
  {
   "cell_type": "markdown",
   "metadata": {
    "application/vnd.databricks.v1+cell": {
     "inputWidgets": {},
     "nuid": "ad6fce8a-9bdd-4702-af7f-e0909df3b968",
     "showTitle": false,
     "title": ""
    }
   },
   "source": [
    "## Data Exploration & Cleaning"
   ]
  },
  {
   "cell_type": "code",
   "execution_count": 10,
   "metadata": {
    "application/vnd.databricks.v1+cell": {
     "inputWidgets": {},
     "nuid": "7cea2d38-da6a-43e7-a93f-15c6e43d66d5",
     "showTitle": false,
     "title": ""
    }
   },
   "outputs": [
    {
     "name": "stdout",
     "output_type": "stream",
     "text": [
      "+-------+------------------+\n",
      "|summary|    reviews_rating|\n",
      "+-------+------------------+\n",
      "|  count|             32283|\n",
      "|   mean| 4.501037697859554|\n",
      "| stddev|1.1602410620788028|\n",
      "|    min|                 0|\n",
      "|    max|                97|\n",
      "+-------+------------------+\n",
      "\n"
     ]
    }
   ],
   "source": [
    "reviews.select('reviews_rating').describe().show()"
   ]
  },
  {
   "cell_type": "code",
   "execution_count": 11,
   "metadata": {
    "application/vnd.databricks.v1+cell": {
     "inputWidgets": {},
     "nuid": "aff5289c-8122-4d79-b376-fa2f433ace7b",
     "showTitle": false,
     "title": ""
    }
   },
   "outputs": [
    {
     "name": "stdout",
     "output_type": "stream",
     "text": [
      "+--------------+-----+\n",
      "|reviews_rating|count|\n",
      "+--------------+-----+\n",
      "|          null| 1049|\n",
      "|             0|  199|\n",
      "|             1| 1025|\n",
      "|             2|  664|\n",
      "|             3| 1366|\n",
      "|             4| 6498|\n",
      "|             5|22522|\n",
      "|             6|    1|\n",
      "|             8|    1|\n",
      "|             9|    1|\n",
      "|            12|    1|\n",
      "|            13|    1|\n",
      "|            16|    1|\n",
      "|            44|    1|\n",
      "|            49|    1|\n",
      "|            97|    1|\n",
      "+--------------+-----+\n",
      "\n"
     ]
    }
   ],
   "source": [
    "# based on the above output, review sentiments appear relatively high. it is not uncommon to see consumers only offering reviews if they had a notably positive or negative experience with a product, or arbitrarily assigning polarized ratings (e.g 0 or 5) to products, which are issues we hope to address through removing the necessity of providing a numeric rating score. \n",
    "\n",
    "reviews.select('reviews_rating')\\\n",
    "    .groupBy('reviews_rating')\\\n",
    "    .count()\\\n",
    "    .orderBy('reviews_rating', ascending=True).show()"
   ]
  },
  {
   "cell_type": "code",
   "execution_count": 12,
   "metadata": {
    "application/vnd.databricks.v1+cell": {
     "inputWidgets": {},
     "nuid": "0e7b2951-1f37-492c-8167-7c5d0c25d057",
     "showTitle": false,
     "title": ""
    }
   },
   "outputs": [
    {
     "name": "stdout",
     "output_type": "stream",
     "text": [
      "+--------------+-----+\n",
      "|reviews_rating|count|\n",
      "+--------------+-----+\n",
      "|             0|  199|\n",
      "|             1| 1025|\n",
      "|             2|  664|\n",
      "|             3| 1366|\n",
      "|             4| 6498|\n",
      "|             5|22522|\n",
      "+--------------+-----+\n",
      "\n"
     ]
    }
   ],
   "source": [
    "# based on the above output, it's clear we'll need to drop some flawed data points - any ratings that are null or not between 1 and 5. \n",
    "\n",
    "values_list = [0, 1, 2, 3, 4, 5]\n",
    "reviews = reviews.filter(reviews.reviews_rating.isin(values_list))\n",
    "\n",
    "reviews.select('reviews_rating')\\\n",
    "    .groupBy('reviews_rating')\\\n",
    "    .count()\\\n",
    "    .orderBy('reviews_rating', ascending=True).show()"
   ]
  },
  {
   "cell_type": "code",
   "execution_count": 13,
   "metadata": {
    "application/vnd.databricks.v1+cell": {
     "inputWidgets": {},
     "nuid": "1dac4014-7487-4ec3-afff-5ae65a583659",
     "showTitle": false,
     "title": ""
    }
   },
   "outputs": [
    {
     "name": "stdout",
     "output_type": "stream",
     "text": [
      "+-----+-----+\n",
      "|label|count|\n",
      "+-----+-----+\n",
      "|    0| 2307|\n",
      "|    1|29967|\n",
      "+-----+-----+\n",
      "\n"
     ]
    }
   ],
   "source": [
    "reviews.select('label')\\\n",
    "    .groupBy('label')\\\n",
    "    .count()\\\n",
    "    .orderBy('label', ascending=True).show()"
   ]
  },
  {
   "cell_type": "code",
   "execution_count": 14,
   "metadata": {
    "application/vnd.databricks.v1+cell": {
     "inputWidgets": {},
     "nuid": "96daf17f-ae95-41a7-a801-950a6c8f15b0",
     "showTitle": false,
     "title": ""
    }
   },
   "outputs": [
    {
     "name": "stdout",
     "output_type": "stream",
     "text": [
      "+--------------+-----+-----+\n",
      "|reviews_rating|label|count|\n",
      "+--------------+-----+-----+\n",
      "|             0|    1|  199|\n",
      "|             1|    0|  513|\n",
      "|             1|    1|  512|\n",
      "|             2|    0|  233|\n",
      "|             2|    1|  431|\n",
      "|             3|    1| 1096|\n",
      "|             3|    0|  270|\n",
      "|             4|    0|  375|\n",
      "|             4|    1| 6123|\n",
      "|             5|    1|21606|\n",
      "|             5|    0|  916|\n",
      "+--------------+-----+-----+\n",
      "\n"
     ]
    }
   ],
   "source": [
    "# viewing matched versus mismatched review_ratings to label\n",
    "\n",
    "reviews.select('reviews_rating','label')\\\n",
    "    .groupBy('reviews_rating','label')\\\n",
    "    .count()\\\n",
    "    .orderBy('reviews_rating', ascending=True)\\\n",
    "    .show()"
   ]
  },
  {
   "cell_type": "code",
   "execution_count": 15,
   "metadata": {
    "application/vnd.databricks.v1+cell": {
     "inputWidgets": {},
     "nuid": "18f8fcc1-f02f-4aed-b8b5-e82b78cf2dd1",
     "showTitle": false,
     "title": ""
    }
   },
   "outputs": [
    {
     "data": {
      "text/plain": [
       "DataFrame[name: string, count: bigint]"
      ]
     },
     "metadata": {},
     "output_type": "display_data"
    }
   ],
   "source": [
    "# as mentioned above, reviews are frequently submitted due to strong positive or negative experiences with a product. examining whether any specific products received a disproportionate share of reviews may offer additional insight into our data\n",
    "\n",
    "display(reviews.select('name','reviews_rating').groupBy('name').count())"
   ]
  },
  {
   "cell_type": "code",
   "execution_count": 16,
   "metadata": {
    "application/vnd.databricks.v1+cell": {
     "inputWidgets": {},
     "nuid": "7126d5f1-98fe-4a1c-a051-3262f8db79c1",
     "showTitle": false,
     "title": ""
    }
   },
   "outputs": [
    {
     "data": {
      "text/plain": [
       "DataFrame[name: string, avg(reviews_rating): double]"
      ]
     },
     "metadata": {},
     "output_type": "display_data"
    }
   ],
   "source": [
    "# clearly, Amazon AAA batteries receive substantially more reviews than other products included in this dataset! it may be interesting to compare the above chart to a similar visualization displaying the average rating score given to each product.\n",
    "\n",
    "display(reviews.select('name', 'reviews_rating').groupBy('name').avg())"
   ]
  },
  {
   "cell_type": "code",
   "execution_count": 17,
   "metadata": {
    "application/vnd.databricks.v1+cell": {
     "inputWidgets": {},
     "nuid": "de59b668-a55a-429a-9aef-610043a774ff",
     "showTitle": false,
     "title": ""
    }
   },
   "outputs": [
    {
     "data": {
      "text/plain": [
       "DataFrame[name: string, avg(length(reviews_text)): double, avg(reviews_rating): double]"
      ]
     },
     "metadata": {},
     "output_type": "display_data"
    }
   ],
   "source": [
    "# finally, given our interest in using solely text-based response data to generate product ratings, an important consideration will be whether length of review is related to numeric rating. \n",
    "\n",
    "display(reviews.select('name',length('reviews_text'),'reviews_rating').groupBy('name').avg())\n",
    "\n",
    "# consider - correlation matrix / heatmap"
   ]
  },
  {
   "cell_type": "markdown",
   "metadata": {
    "application/vnd.databricks.v1+cell": {
     "inputWidgets": {},
     "nuid": "fdef1eb4-e3e9-468c-9354-1d520ea52c8d",
     "showTitle": false,
     "title": ""
    }
   },
   "source": [
    "## Building the Pipeline"
   ]
  },
  {
   "cell_type": "code",
   "execution_count": 18,
   "metadata": {
    "application/vnd.databricks.v1+cell": {
     "inputWidgets": {},
     "nuid": "0de5b92e-8430-4ed6-b23d-b7e043f9667a",
     "showTitle": false,
     "title": ""
    }
   },
   "outputs": [],
   "source": [
    "# split the data - may need to change the split\n",
    "train_set, test_set = reviews.randomSplit([0.9, 0.1], seed=5)"
   ]
  },
  {
   "cell_type": "code",
   "execution_count": 19,
   "metadata": {
    "application/vnd.databricks.v1+cell": {
     "inputWidgets": {},
     "nuid": "f6a02153-595b-4032-9cb2-df04d9f7abe8",
     "showTitle": false,
     "title": ""
    }
   },
   "outputs": [],
   "source": [
    "# features\n",
    "tokenizer = RegexTokenizer(inputCol=\"reviews_text\", outputCol=\"token\").setPattern(\"\\\\W\")\n",
    "remover = StopWordsRemover(inputCol=\"token\", outputCol=\"stopwordsremoved\")\n",
    "hashtf = HashingTF(inputCol=\"stopwordsremoved\", outputCol='hashingTF')\n",
    "idf = IDF(inputCol='hashingTF', outputCol=\"IDF\")\n",
    "\n",
    "# label\n",
    "label_stringIdx = StringIndexer(inputCol = \"label\", outputCol = \"StringIndexer\")\n",
    "\n",
    "# pipeline\n",
    "pipeline = Pipeline(stages=[tokenizer, remover, hashtf, idf, label_stringIdx])\n",
    "model = pipeline.fit(train_set)\n",
    "train_df = model.transform(train_set)\n",
    "test_df = model.transform(test_set)"
   ]
  },
  {
   "cell_type": "markdown",
   "metadata": {
    "application/vnd.databricks.v1+cell": {
     "inputWidgets": {},
     "nuid": "7d638a74-7180-4d47-8b4e-1b49489c939e",
     "showTitle": false,
     "title": ""
    }
   },
   "source": [
    "## Logistic Regression"
   ]
  },
  {
   "cell_type": "code",
   "execution_count": 20,
   "metadata": {
    "application/vnd.databricks.v1+cell": {
     "inputWidgets": {},
     "nuid": "c53ab06c-43eb-4e59-afe7-8c59662a3dce",
     "showTitle": false,
     "title": ""
    }
   },
   "outputs": [],
   "source": [
    "# train the logistic regression model\n",
    "log_reg = LogisticRegression(labelCol=\"label\", featuresCol=\"hashingTF\", \n",
    "                        maxIter=10, regParam=0.01)\n",
    "lr_model = log_reg.fit(train_df)"
   ]
  },
  {
   "cell_type": "code",
   "execution_count": 21,
   "metadata": {
    "application/vnd.databricks.v1+cell": {
     "inputWidgets": {},
     "nuid": "92197609-8e91-4ad3-8948-826ac7d4cc7e",
     "showTitle": false,
     "title": ""
    },
    "scrolled": false
   },
   "outputs": [
    {
     "name": "stdout",
     "output_type": "stream",
     "text": [
      "+--------------+----------+-----+-----+\n",
      "|reviews_rating|prediction|label|count|\n",
      "+--------------+----------+-----+-----+\n",
      "|             0|       1.0|    1|   17|\n",
      "|             1|       0.0|    1|    4|\n",
      "|             1|       1.0|    0|   12|\n",
      "|             1|       1.0|    1|   37|\n",
      "|             1|       0.0|    0|   36|\n",
      "|             2|       1.0|    1|   40|\n",
      "|             2|       1.0|    0|    9|\n",
      "|             2|       0.0|    0|   14|\n",
      "|             3|       1.0|    0|    8|\n",
      "|             3|       1.0|    1|   93|\n",
      "|             3|       0.0|    1|    2|\n",
      "|             3|       0.0|    0|   12|\n",
      "|             4|       0.0|    1|    2|\n",
      "|             4|       0.0|    0|   23|\n",
      "|             4|       1.0|    1|  617|\n",
      "|             4|       1.0|    0|   17|\n",
      "|             5|       0.0|    0|   34|\n",
      "|             5|       0.0|    1|   11|\n",
      "|             5|       1.0|    0|   39|\n",
      "|             5|       1.0|    1| 2108|\n",
      "+--------------+----------+-----+-----+\n",
      "\n"
     ]
    }
   ],
   "source": [
    "# run the logistic regression model\n",
    "lr_predict = lr_model.transform(test_df)\n",
    "lr_final = lr_predict.select(\"name\", \"reviews_rating\", \"prediction\", \"label\")\n",
    "lr_final\\\n",
    "    .groupBy('reviews_rating','prediction', 'label')\\\n",
    "    .count()\\\n",
    "    .distinct()\\\n",
    "    .orderBy('reviews_rating', ascending=True)\\\n",
    "    .show()"
   ]
  },
  {
   "cell_type": "code",
   "execution_count": 22,
   "metadata": {
    "application/vnd.databricks.v1+cell": {
     "inputWidgets": {},
     "nuid": "68ea723b-53f2-476c-a3ba-c3d25c87a91c",
     "showTitle": false,
     "title": ""
    }
   },
   "outputs": [
    {
     "name": "stdout",
     "output_type": "stream",
     "text": [
      "Correct Prediction: 3031 , Total: 3135 , Accuracy Rate: 0.9668261562998405\n"
     ]
    }
   ],
   "source": [
    "lr_correct = lr_final\\\n",
    "    .filter(lr_final.prediction == lr_final.label)\\\n",
    "    .count()\n",
    "\n",
    "lr_total = lr_final.count()\n",
    "\n",
    "print(\"Correct Prediction:\", lr_correct, \", Total:\", lr_total, \n",
    "      \", Accuracy Rate:\", lr_correct/lr_total)"
   ]
  },
  {
   "cell_type": "markdown",
   "metadata": {},
   "source": [
    "## Random Forest Model"
   ]
  },
  {
   "cell_type": "code",
   "execution_count": null,
   "metadata": {},
   "outputs": [],
   "source": [
    "#develop RF model\n",
    "rf = RandomForestRegressor(labelCol=\"label\", featuresCol=\"hashingTF\")\n",
    "model = rf.fit(train_df)"
   ]
  },
  {
   "cell_type": "code",
   "execution_count": null,
   "metadata": {},
   "outputs": [],
   "source": [
    "# test our model and make predictions using testing data\n",
    "predictions = model.transform(testing)\n",
    "predictions.select(\"prediction\", \"labelIndex\").show(5)"
   ]
  },
  {
   "cell_type": "code",
   "execution_count": null,
   "metadata": {},
   "outputs": [],
   "source": [
    "# evaluate the performance of the classifier\n",
    "evaluator = BinaryClassificationEvaluator(labelCol=\"label\",predictionCol=\"prediction\", metricName=\"accuracy\")\n",
    "accuracy = evaluator.evaluate(predictions)print(\"Test Error = %g\" % (1.0 - accuracy))\n",
    "print(\"Accuracy = %g \" % accuracy)\n",
    "\n",
    "evaluator2 = BinaryClassificationEvaluator()\n",
    "print(\"Test Area Under ROC: \" + str(evaluator2.evaluate(predictions, {evaluator2.metricName: \"areaUnderROC\"})))"
   ]
  },
  {
   "cell_type": "code",
   "execution_count": null,
   "metadata": {},
   "outputs": [],
   "source": [
    "#confusion matrix\n",
    "\n",
    "from sklearn.metrics import classification_report, confusion_matrix\n",
    "\n",
    "y_true = predictions.select(['label']).collect()\n",
    "y_pred = predictions.select(['prediction']).collect()\n",
    "\n",
    "print(classification_report(y_true, y_pred))\n",
    "print(confusion_matrix(y_true, y_pred))"
   ]
  },
  {
   "cell_type": "markdown",
   "metadata": {
    "application/vnd.databricks.v1+cell": {
     "inputWidgets": {},
     "nuid": "e5f3727a-1f57-4f23-9b77-9480d7539368",
     "showTitle": false,
     "title": ""
    }
   },
   "source": [
    "## Visualizing the Model"
   ]
  },
  {
   "cell_type": "code",
   "execution_count": 0,
   "metadata": {
    "application/vnd.databricks.v1+cell": {
     "inputWidgets": {},
     "nuid": "edec6732-2c0b-4e5f-80be-ac4a4144012e",
     "showTitle": false,
     "title": ""
    }
   },
   "outputs": [
    {
     "data": {
      "text/html": [
       "<style scoped>\n",
       "  .table-result-container {\n",
       "    max-height: 300px;\n",
       "    overflow: auto;\n",
       "  }\n",
       "  table, th, td {\n",
       "    border: 1px solid black;\n",
       "    border-collapse: collapse;\n",
       "  }\n",
       "  th, td {\n",
       "    padding: 5px;\n",
       "  }\n",
       "  th {\n",
       "    text-align: left;\n",
       "  }\n",
       "</style><div class='table-result-container'><table class='table-result'><thead style='background-color: white'><tr><th>name</th><th>avg(prediction)</th><th>avg(label)</th></tr></thead><tbody><tr><td>\"Amazon Kindle E-Reader 6\"\" Wifi (8th Generation</td><td>1.0</td><td>1.0</td></tr><tr><td>\"Amazon Echo Show Alexa-enabled Bluetooth Speaker with 7\"\" Screen\"</td><td>1.0</td><td>1.0</td></tr><tr><td>Amazon - Echo Plus w/ Built-In Hub - Silver</td><td>0.9848484848484849</td><td>0.9545454545454546</td></tr><tr><td>Amazon 9W PowerFast Official OEM USB Charger and Power Adapter for Fire Tablets and Kindle eReaders</td><td>1.0</td><td>0.875</td></tr><tr><td>Fire Kids Edition Tablet, 7 Display, Wi-Fi, 16 GB, Green Kid-Proof Case</td><td>0.9382716049382716</td><td>0.9382716049382716</td></tr><tr><td>Fire Tablet, 7 Display, Wi-Fi, 16 GB - Includes Special Offers, Black</td><td>0.9538461538461539</td><td>0.9461538461538461</td></tr><tr><td>Fire Kids Edition Tablet, 7 Display, Wi-Fi, 16 GB, Blue Kid-Proof Case</td><td>0.9891304347826086</td><td>0.9782608695652174</td></tr><tr><td>Kindle E-reader - White, 6 Glare-Free Touchscreen Display, Wi-Fi - Includes Special Offers</td><td>1.0</td><td>0.9705882352941176</td></tr><tr><td>All-New Fire HD 8 Tablet, 8 HD Display, Wi-Fi, 32 GB - Includes Special Offers, Blue</td><td>1.0</td><td>1.0</td></tr><tr><td>All-New Fire HD 8 Tablet, 8 HD Display, Wi-Fi, 16 GB - Includes Special Offers, Blue</td><td>1.0</td><td>1.0</td></tr><tr><td>Amazon Tap - Alexa-Enabled Portable Bluetooth Speaker</td><td>1.0</td><td>0.9523809523809523</td></tr><tr><td>Kindle Oasis E-reader with Leather Charging Cover - Merlot, 6 High-Resolution Display (300 ppi), Wi-Fi - Includes Special Offers</td><td>1.0</td><td>1.0</td></tr><tr><td>Fire HD 10 Tablet, 10.1 HD Display, Wi-Fi, 16 GB - Includes Special Offers, Silver Aluminum</td><td>1.0</td><td>1.0</td></tr><tr><td>\"Amazon - Kindle Voyage - 6\"\" - 4GB - Black\"</td><td>1.0</td><td>1.0</td></tr><tr><td>\"Kindle Oasis E-reader with Leather Charging Cover - Black, 6\"\" High-Resolution Display (300 ppi)</td><td>1.0</td><td>1.0</td></tr><tr><td>Amazon - Kindle Voyage - 4GB - Wi-Fi + 3G - Black</td><td>1.0</td><td>1.0</td></tr><tr><td>\"Brand New Amazon Kindle Fire 16gb 7\"\" Ips Display Tablet Wifi 16 Gb Blue\"</td><td>0.9574468085106383</td><td>0.9361702127659575</td></tr><tr><td>Amazon Tap Smart Assistant Alexaenabled (black) Brand New</td><td>0.9841269841269841</td><td>0.9841269841269841</td></tr><tr><td>Fire TV Stick Streaming Media Player Pair Kit</td><td>1.0</td><td>1.0</td></tr><tr><td>AmazonBasics Backpack for Laptops up to 17-inches</td><td>1.0</td><td>1.0</td></tr><tr><td>Expanding Accordion File Folder Plastic Portable Document Organizer Letter Size</td><td>1.0</td><td>1.0</td></tr><tr><td>AmazonBasics External Hard Drive Case</td><td>1.0</td><td>1.0</td></tr><tr><td>AmazonBasics 15.6-Inch Laptop and Tablet Bag</td><td>1.0</td><td>1.0</td></tr><tr><td>Kindle PowerFast International Charging Kit (for accelerated charging in over 200 countries)</td><td>1.0</td><td>1.0</td></tr><tr><td>AmazonBasics AA Performance Alkaline Batteries (48 Count) - Packaging May Vary</td><td>0.9217877094972067</td><td>0.8994413407821229</td></tr><tr><td>AmazonBasics AAA Performance Alkaline Batteries (36 Count)</td><td>0.9256410256410257</td><td>0.882051282051282</td></tr><tr><td>Kindle Voyage E-reader, 6 High-Resolution Display (300 ppi) with Adaptive Built-in Light, PagePress Sensors, Wi-Fi - Includes Special Offers</td><td>0.9830508474576272</td><td>0.9322033898305084</td></tr><tr><td>All-New Fire HD 8 Tablet, 8 HD Display, Wi-Fi, 32 GB - Includes Special Offers, Black</td><td>0.9523809523809523</td><td>0.9523809523809523</td></tr><tr><td>Amazon Echo (2nd Generation) Smart Assistant Oak Finish Priority Shipping</td><td>1.0</td><td>1.0</td></tr><tr><td>Fire Kids Edition Tablet, 7 Display, Wi-Fi, 16 GB, Pink Kid-Proof Case</td><td>0.9583333333333334</td><td>0.9464285714285714</td></tr><tr><td>All-New Fire HD 8 Tablet, 8 HD Display, Wi-Fi, 32 GB - Includes Special Offers, Magenta</td><td>1.0</td><td>1.0</td></tr><tr><td>All-New Fire HD 8 Tablet, 8 HD Display, Wi-Fi, 16 GB - Includes Special Offers, Black</td><td>0.9875</td><td>0.9625</td></tr><tr><td>AmazonBasics USB 3.0 Cable - A-Male to B-Male - 6 Feet (1.8 Meters)</td><td>0.5</td><td>1.0</td></tr><tr><td>Kindle Oasis E-reader with Leather Charging Cover - Black, 6 High-Resolution Display (300 ppi), Wi-Fi - Includes Special Offers</td><td>1.0</td><td>1.0</td></tr><tr><td>\"Amazon Fire HD 8 with Alexa (8\"\" HD Display Tablet)\"</td><td>1.0</td><td>1.0</td></tr><tr><td>All-New Fire HD 8 Tablet with Alexa, 8 HD Display, 16 GB, Marine Blue - with Special Offers</td><td>0.9885057471264368</td><td>0.9885057471264368</td></tr><tr><td>All-New Fire HD 8 Kids Edition Tablet, 8 HD Display, 32 GB, Blue Kid-Proof Case</td><td>0.9565217391304348</td><td>0.9565217391304348</td></tr><tr><td>All-New Fire HD 8 Kids Edition Tablet, 8 HD Display, 32 GB, Pink Kid-Proof Case</td><td>1.0</td><td>1.0</td></tr><tr><td>All-New Kindle Oasis E-reader - 7 High-Resolution Display (300 ppi), Waterproof, Built-In Audible, 32 GB, Wi-Fi + Free Cellular Connectivity</td><td>1.0</td><td>1.0</td></tr><tr><td>\"All-New Fire 7 Tablet with Alexa, 7\"\" Display</td><td>1.0</td><td>1.0</td></tr><tr><td>All-New Fire HD 8 Tablet with Alexa, 8 HD Display, 32 GB, Marine Blue - with Special Offers</td><td>1.0</td><td>1.0</td></tr><tr><td>Kindle Voyage E-reader, 6 High-Resolution Display (300 ppi) with Adaptive Built-in Light, PagePress Sensors, Free 3G + Wi-Fi - Includes Special Offers</td><td>0.6666666666666666</td><td>0.6666666666666666</td></tr><tr><td>Kindle Oasis E-reader with Leather Charging Cover - Walnut, 6 High-Resolution Display (300 ppi), Wi-Fi - Includes Special Offers</td><td>0.9</td><td>0.9</td></tr><tr><td>All-New Kindle Oasis E-reader - 7 High-Resolution Display (300 ppi), Waterproof, Built-In Audible, 8 GB, Wi-Fi - Includes Special Offers</td><td>1.0</td><td>1.0</td></tr><tr><td>Fire Tablet with Alexa, 7 Display, 16 GB, Blue - with Special Offers</td><td>0.9777777777777777</td><td>0.9666666666666667</td></tr><tr><td>Fire Tablet with Alexa, 7 Display, 16 GB, Magenta - with Special Offers</td><td>0.9420289855072463</td><td>0.9420289855072463</td></tr><tr><td>AmazonBasics Bluetooth Keyboard for Android Devices - Black</td><td>1.0</td><td>1.0</td></tr><tr><td>Fire HD 8 Tablet with Alexa, 8 HD Display, 32 GB, Tangerine - with Special Offers</td><td>0.8333333333333334</td><td>0.8333333333333334</td></tr><tr><td>Fire HD 8 Tablet with Alexa, 8 HD Display, 16 GB, Tangerine - with Special Offers</td><td>0.9789029535864979</td><td>0.9620253164556962</td></tr></tbody></table></div>"
      ]
     },
     "metadata": {
      "application/vnd.databricks.v1+output": {
       "addedWidgets": {},
       "aggData": [],
       "aggError": "",
       "aggOverflow": false,
       "aggSchema": [],
       "aggSeriesLimitReached": false,
       "aggType": "",
       "arguments": {},
       "columnCustomDisplayInfos": {},
       "data": [
        [
         "\"Amazon Kindle E-Reader 6\"\" Wifi (8th Generation",
         1,
         1
        ],
        [
         "\"Amazon Echo Show Alexa-enabled Bluetooth Speaker with 7\"\" Screen\"",
         1,
         1
        ],
        [
         "Amazon - Echo Plus w/ Built-In Hub - Silver",
         0.9848484848484849,
         0.9545454545454546
        ],
        [
         "Amazon 9W PowerFast Official OEM USB Charger and Power Adapter for Fire Tablets and Kindle eReaders",
         1,
         0.875
        ],
        [
         "Fire Kids Edition Tablet, 7 Display, Wi-Fi, 16 GB, Green Kid-Proof Case",
         0.9382716049382716,
         0.9382716049382716
        ],
        [
         "Fire Tablet, 7 Display, Wi-Fi, 16 GB - Includes Special Offers, Black",
         0.9538461538461539,
         0.9461538461538461
        ],
        [
         "Fire Kids Edition Tablet, 7 Display, Wi-Fi, 16 GB, Blue Kid-Proof Case",
         0.9891304347826086,
         0.9782608695652174
        ],
        [
         "Kindle E-reader - White, 6 Glare-Free Touchscreen Display, Wi-Fi - Includes Special Offers",
         1,
         0.9705882352941176
        ],
        [
         "All-New Fire HD 8 Tablet, 8 HD Display, Wi-Fi, 32 GB - Includes Special Offers, Blue",
         1,
         1
        ],
        [
         "All-New Fire HD 8 Tablet, 8 HD Display, Wi-Fi, 16 GB - Includes Special Offers, Blue",
         1,
         1
        ],
        [
         "Amazon Tap - Alexa-Enabled Portable Bluetooth Speaker",
         1,
         0.9523809523809523
        ],
        [
         "Kindle Oasis E-reader with Leather Charging Cover - Merlot, 6 High-Resolution Display (300 ppi), Wi-Fi - Includes Special Offers",
         1,
         1
        ],
        [
         "Fire HD 10 Tablet, 10.1 HD Display, Wi-Fi, 16 GB - Includes Special Offers, Silver Aluminum",
         1,
         1
        ],
        [
         "\"Amazon - Kindle Voyage - 6\"\" - 4GB - Black\"",
         1,
         1
        ],
        [
         "\"Kindle Oasis E-reader with Leather Charging Cover - Black, 6\"\" High-Resolution Display (300 ppi)",
         1,
         1
        ],
        [
         "Amazon - Kindle Voyage - 4GB - Wi-Fi + 3G - Black",
         1,
         1
        ],
        [
         "\"Brand New Amazon Kindle Fire 16gb 7\"\" Ips Display Tablet Wifi 16 Gb Blue\"",
         0.9574468085106383,
         0.9361702127659575
        ],
        [
         "Amazon Tap Smart Assistant Alexaenabled (black) Brand New",
         0.9841269841269841,
         0.9841269841269841
        ],
        [
         "Fire TV Stick Streaming Media Player Pair Kit",
         1,
         1
        ],
        [
         "AmazonBasics Backpack for Laptops up to 17-inches",
         1,
         1
        ],
        [
         "Expanding Accordion File Folder Plastic Portable Document Organizer Letter Size",
         1,
         1
        ],
        [
         "AmazonBasics External Hard Drive Case",
         1,
         1
        ],
        [
         "AmazonBasics 15.6-Inch Laptop and Tablet Bag",
         1,
         1
        ],
        [
         "Kindle PowerFast International Charging Kit (for accelerated charging in over 200 countries)",
         1,
         1
        ],
        [
         "AmazonBasics AA Performance Alkaline Batteries (48 Count) - Packaging May Vary",
         0.9217877094972067,
         0.8994413407821229
        ],
        [
         "AmazonBasics AAA Performance Alkaline Batteries (36 Count)",
         0.9256410256410257,
         0.882051282051282
        ],
        [
         "Kindle Voyage E-reader, 6 High-Resolution Display (300 ppi) with Adaptive Built-in Light, PagePress Sensors, Wi-Fi - Includes Special Offers",
         0.9830508474576272,
         0.9322033898305084
        ],
        [
         "All-New Fire HD 8 Tablet, 8 HD Display, Wi-Fi, 32 GB - Includes Special Offers, Black",
         0.9523809523809523,
         0.9523809523809523
        ],
        [
         "Amazon Echo (2nd Generation) Smart Assistant Oak Finish Priority Shipping",
         1,
         1
        ],
        [
         "Fire Kids Edition Tablet, 7 Display, Wi-Fi, 16 GB, Pink Kid-Proof Case",
         0.9583333333333334,
         0.9464285714285714
        ],
        [
         "All-New Fire HD 8 Tablet, 8 HD Display, Wi-Fi, 32 GB - Includes Special Offers, Magenta",
         1,
         1
        ],
        [
         "All-New Fire HD 8 Tablet, 8 HD Display, Wi-Fi, 16 GB - Includes Special Offers, Black",
         0.9875,
         0.9625
        ],
        [
         "AmazonBasics USB 3.0 Cable - A-Male to B-Male - 6 Feet (1.8 Meters)",
         0.5,
         1
        ],
        [
         "Kindle Oasis E-reader with Leather Charging Cover - Black, 6 High-Resolution Display (300 ppi), Wi-Fi - Includes Special Offers",
         1,
         1
        ],
        [
         "\"Amazon Fire HD 8 with Alexa (8\"\" HD Display Tablet)\"",
         1,
         1
        ],
        [
         "All-New Fire HD 8 Tablet with Alexa, 8 HD Display, 16 GB, Marine Blue - with Special Offers",
         0.9885057471264368,
         0.9885057471264368
        ],
        [
         "All-New Fire HD 8 Kids Edition Tablet, 8 HD Display, 32 GB, Blue Kid-Proof Case",
         0.9565217391304348,
         0.9565217391304348
        ],
        [
         "All-New Fire HD 8 Kids Edition Tablet, 8 HD Display, 32 GB, Pink Kid-Proof Case",
         1,
         1
        ],
        [
         "All-New Kindle Oasis E-reader - 7 High-Resolution Display (300 ppi), Waterproof, Built-In Audible, 32 GB, Wi-Fi + Free Cellular Connectivity",
         1,
         1
        ],
        [
         "\"All-New Fire 7 Tablet with Alexa, 7\"\" Display",
         1,
         1
        ],
        [
         "All-New Fire HD 8 Tablet with Alexa, 8 HD Display, 32 GB, Marine Blue - with Special Offers",
         1,
         1
        ],
        [
         "Kindle Voyage E-reader, 6 High-Resolution Display (300 ppi) with Adaptive Built-in Light, PagePress Sensors, Free 3G + Wi-Fi - Includes Special Offers",
         0.6666666666666666,
         0.6666666666666666
        ],
        [
         "Kindle Oasis E-reader with Leather Charging Cover - Walnut, 6 High-Resolution Display (300 ppi), Wi-Fi - Includes Special Offers",
         0.9,
         0.9
        ],
        [
         "All-New Kindle Oasis E-reader - 7 High-Resolution Display (300 ppi), Waterproof, Built-In Audible, 8 GB, Wi-Fi - Includes Special Offers",
         1,
         1
        ],
        [
         "Fire Tablet with Alexa, 7 Display, 16 GB, Blue - with Special Offers",
         0.9777777777777777,
         0.9666666666666667
        ],
        [
         "Fire Tablet with Alexa, 7 Display, 16 GB, Magenta - with Special Offers",
         0.9420289855072463,
         0.9420289855072463
        ],
        [
         "AmazonBasics Bluetooth Keyboard for Android Devices - Black",
         1,
         1
        ],
        [
         "Fire HD 8 Tablet with Alexa, 8 HD Display, 32 GB, Tangerine - with Special Offers",
         0.8333333333333334,
         0.8333333333333334
        ],
        [
         "Fire HD 8 Tablet with Alexa, 8 HD Display, 16 GB, Tangerine - with Special Offers",
         0.9789029535864979,
         0.9620253164556962
        ]
       ],
       "datasetInfos": [],
       "dbfsResultPath": null,
       "isJsonSchema": true,
       "metadata": {},
       "overflow": false,
       "plotOptions": {
        "customPlotOptions": {
         "plotlyLine": [
          {
           "key": "yRange",
           "value": ""
          },
          {
           "key": "showPoints",
           "value": false
          },
          {
           "key": "logScale",
           "value": false
          }
         ]
        },
        "displayType": "plotlyLine",
        "pivotAggregation": "avg",
        "pivotColumns": [],
        "xColumns": [
         "name"
        ],
        "yColumns": [
         "avg(label)",
         "avg(prediction)"
        ]
       },
       "removedWidgets": [],
       "schema": [
        {
         "metadata": "{}",
         "name": "name",
         "type": "\"string\""
        },
        {
         "metadata": "{}",
         "name": "avg(prediction)",
         "type": "\"double\""
        },
        {
         "metadata": "{}",
         "name": "avg(label)",
         "type": "\"double\""
        }
       ],
       "type": "table"
      }
     },
     "output_type": "display_data"
    }
   ],
   "source": [
    "# we can visualize our model's average ratings for each product relative to their actual average rating to get a sense of its accuracy\n",
    "\n",
    "display(lr_final.select('name', 'prediction', 'label').groupBy('name').avg())"
   ]
  },
  {
   "cell_type": "code",
   "execution_count": 0,
   "metadata": {
    "application/vnd.databricks.v1+cell": {
     "inputWidgets": {},
     "nuid": "e7bef0fb-9352-4dcd-a077-0a9558d72acf",
     "showTitle": false,
     "title": ""
    }
   },
   "outputs": [
    {
     "data": {
      "text/html": [
       "<style scoped>\n",
       "  .ansiout {\n",
       "    display: block;\n",
       "    unicode-bidi: embed;\n",
       "    white-space: pre-wrap;\n",
       "    word-wrap: break-word;\n",
       "    word-break: break-all;\n",
       "    font-family: \"Source Code Pro\", \"Menlo\", monospace;;\n",
       "    font-size: 13px;\n",
       "    color: #555;\n",
       "    margin-left: 4px;\n",
       "    line-height: 19px;\n",
       "  }\n",
       "</style>\n",
       "<div class=\"ansiout\"></div>"
      ]
     },
     "metadata": {
      "application/vnd.databricks.v1+output": {
       "addedWidgets": {},
       "arguments": {},
       "data": "<div class=\"ansiout\"></div>",
       "datasetInfos": [],
       "metadata": {},
       "removedWidgets": [],
       "type": "html"
      }
     },
     "output_type": "display_data"
    }
   ],
   "source": [
    "# we will next convert our DataFrame to a Pandas DF for further visualization analysis\n",
    "\n",
    "PandasDF = lr_final.toPandas()\n",
    "\n",
    "PandasDF_raw = raw_data.select(\"reviews_text\").toPandas()\n",
    "\n",
    "# adding raw review text column\n",
    "PandasDF['RawText'] = PandasDF_raw['reviews_text'].astype(str)"
   ]
  },
  {
   "cell_type": "code",
   "execution_count": 0,
   "metadata": {
    "application/vnd.databricks.v1+cell": {
     "inputWidgets": {},
     "nuid": "735fb9cd-965f-4a91-9114-a14566561d63",
     "showTitle": false,
     "title": ""
    }
   },
   "outputs": [
    {
     "data": {
      "text/html": [
       "<style scoped>\n",
       "  .ansiout {\n",
       "    display: block;\n",
       "    unicode-bidi: embed;\n",
       "    white-space: pre-wrap;\n",
       "    word-wrap: break-word;\n",
       "    word-break: break-all;\n",
       "    font-family: \"Source Code Pro\", \"Menlo\", monospace;;\n",
       "    font-size: 13px;\n",
       "    color: #555;\n",
       "    margin-left: 4px;\n",
       "    line-height: 19px;\n",
       "  }\n",
       "</style>\n",
       "<div class=\"ansiout\">Out[52]: </div>"
      ]
     },
     "metadata": {
      "application/vnd.databricks.v1+output": {
       "addedWidgets": {},
       "arguments": {},
       "data": "<div class=\"ansiout\">Out[52]: </div>",
       "datasetInfos": [],
       "metadata": {},
       "removedWidgets": [],
       "type": "html"
      }
     },
     "output_type": "display_data"
    },
    {
     "data": {
      "text/html": [
       "<div>\n",
       "<style scoped>\n",
       "    .dataframe tbody tr th:only-of-type {\n",
       "        vertical-align: middle;\n",
       "    }\n",
       "\n",
       "    .dataframe tbody tr th {\n",
       "        vertical-align: top;\n",
       "    }\n",
       "\n",
       "    .dataframe thead th {\n",
       "        text-align: right;\n",
       "    }\n",
       "</style>\n",
       "<table border=\"1\" class=\"dataframe\">\n",
       "  <thead>\n",
       "    <tr style=\"text-align: right;\">\n",
       "      <th></th>\n",
       "      <th>Count</th>\n",
       "      <th>Word</th>\n",
       "    </tr>\n",
       "  </thead>\n",
       "  <tbody>\n",
       "    <tr>\n",
       "      <th>the</th>\n",
       "      <td>3587</td>\n",
       "      <td>the</td>\n",
       "    </tr>\n",
       "    <tr>\n",
       "      <th>to</th>\n",
       "      <td>2840</td>\n",
       "      <td>to</td>\n",
       "    </tr>\n",
       "    <tr>\n",
       "      <th>and</th>\n",
       "      <td>2779</td>\n",
       "      <td>and</td>\n",
       "    </tr>\n",
       "    <tr>\n",
       "      <th>i</th>\n",
       "      <td>2334</td>\n",
       "      <td>i</td>\n",
       "    </tr>\n",
       "    <tr>\n",
       "      <th>it</th>\n",
       "      <td>2042</td>\n",
       "      <td>it</td>\n",
       "    </tr>\n",
       "    <tr>\n",
       "      <th>for</th>\n",
       "      <td>1882</td>\n",
       "      <td>for</td>\n",
       "    </tr>\n",
       "    <tr>\n",
       "      <th>a</th>\n",
       "      <td>1771</td>\n",
       "      <td>a</td>\n",
       "    </tr>\n",
       "    <tr>\n",
       "      <th>is</th>\n",
       "      <td>1611</td>\n",
       "      <td>is</td>\n",
       "    </tr>\n",
       "    <tr>\n",
       "      <th>my</th>\n",
       "      <td>1562</td>\n",
       "      <td>my</td>\n",
       "    </tr>\n",
       "    <tr>\n",
       "      <th>this</th>\n",
       "      <td>1262</td>\n",
       "      <td>this</td>\n",
       "    </tr>\n",
       "    <tr>\n",
       "      <th>with</th>\n",
       "      <td>900</td>\n",
       "      <td>with</td>\n",
       "    </tr>\n",
       "    <tr>\n",
       "      <th>of</th>\n",
       "      <td>843</td>\n",
       "      <td>of</td>\n",
       "    </tr>\n",
       "    <tr>\n",
       "      <th>great</th>\n",
       "      <td>790</td>\n",
       "      <td>great</td>\n",
       "    </tr>\n",
       "    <tr>\n",
       "      <th>love</th>\n",
       "      <td>681</td>\n",
       "      <td>love</td>\n",
       "    </tr>\n",
       "    <tr>\n",
       "      <th>have</th>\n",
       "      <td>633</td>\n",
       "      <td>have</td>\n",
       "    </tr>\n",
       "    <tr>\n",
       "      <th>in</th>\n",
       "      <td>594</td>\n",
       "      <td>in</td>\n",
       "    </tr>\n",
       "    <tr>\n",
       "      <th>on</th>\n",
       "      <td>592</td>\n",
       "      <td>on</td>\n",
       "    </tr>\n",
       "    <tr>\n",
       "      <th>that</th>\n",
       "      <td>579</td>\n",
       "      <td>that</td>\n",
       "    </tr>\n",
       "    <tr>\n",
       "      <th>you</th>\n",
       "      <td>523</td>\n",
       "      <td>you</td>\n",
       "    </tr>\n",
       "    <tr>\n",
       "      <th>can</th>\n",
       "      <td>519</td>\n",
       "      <td>can</td>\n",
       "    </tr>\n",
       "    <tr>\n",
       "      <th>was</th>\n",
       "      <td>517</td>\n",
       "      <td>was</td>\n",
       "    </tr>\n",
       "    <tr>\n",
       "      <th>echo</th>\n",
       "      <td>511</td>\n",
       "      <td>echo</td>\n",
       "    </tr>\n",
       "    <tr>\n",
       "      <th>but</th>\n",
       "      <td>498</td>\n",
       "      <td>but</td>\n",
       "    </tr>\n",
       "    <tr>\n",
       "      <th>so</th>\n",
       "      <td>475</td>\n",
       "      <td>so</td>\n",
       "    </tr>\n",
       "    <tr>\n",
       "      <th>as</th>\n",
       "      <td>465</td>\n",
       "      <td>as</td>\n",
       "    </tr>\n",
       "  </tbody>\n",
       "</table>\n",
       "</div>"
      ]
     },
     "metadata": {
      "application/vnd.databricks.v1+output": {
       "addedWidgets": {},
       "arguments": {},
       "data": "<div>\n<style scoped>\n    .dataframe tbody tr th:only-of-type {\n        vertical-align: middle;\n    }\n\n    .dataframe tbody tr th {\n        vertical-align: top;\n    }\n\n    .dataframe thead th {\n        text-align: right;\n    }\n</style>\n<table border=\"1\" class=\"dataframe\">\n  <thead>\n    <tr style=\"text-align: right;\">\n      <th></th>\n      <th>Count</th>\n      <th>Word</th>\n    </tr>\n  </thead>\n  <tbody>\n    <tr>\n      <th>the</th>\n      <td>3587</td>\n      <td>the</td>\n    </tr>\n    <tr>\n      <th>to</th>\n      <td>2840</td>\n      <td>to</td>\n    </tr>\n    <tr>\n      <th>and</th>\n      <td>2779</td>\n      <td>and</td>\n    </tr>\n    <tr>\n      <th>i</th>\n      <td>2334</td>\n      <td>i</td>\n    </tr>\n    <tr>\n      <th>it</th>\n      <td>2042</td>\n      <td>it</td>\n    </tr>\n    <tr>\n      <th>for</th>\n      <td>1882</td>\n      <td>for</td>\n    </tr>\n    <tr>\n      <th>a</th>\n      <td>1771</td>\n      <td>a</td>\n    </tr>\n    <tr>\n      <th>is</th>\n      <td>1611</td>\n      <td>is</td>\n    </tr>\n    <tr>\n      <th>my</th>\n      <td>1562</td>\n      <td>my</td>\n    </tr>\n    <tr>\n      <th>this</th>\n      <td>1262</td>\n      <td>this</td>\n    </tr>\n    <tr>\n      <th>with</th>\n      <td>900</td>\n      <td>with</td>\n    </tr>\n    <tr>\n      <th>of</th>\n      <td>843</td>\n      <td>of</td>\n    </tr>\n    <tr>\n      <th>great</th>\n      <td>790</td>\n      <td>great</td>\n    </tr>\n    <tr>\n      <th>love</th>\n      <td>681</td>\n      <td>love</td>\n    </tr>\n    <tr>\n      <th>have</th>\n      <td>633</td>\n      <td>have</td>\n    </tr>\n    <tr>\n      <th>in</th>\n      <td>594</td>\n      <td>in</td>\n    </tr>\n    <tr>\n      <th>on</th>\n      <td>592</td>\n      <td>on</td>\n    </tr>\n    <tr>\n      <th>that</th>\n      <td>579</td>\n      <td>that</td>\n    </tr>\n    <tr>\n      <th>you</th>\n      <td>523</td>\n      <td>you</td>\n    </tr>\n    <tr>\n      <th>can</th>\n      <td>519</td>\n      <td>can</td>\n    </tr>\n    <tr>\n      <th>was</th>\n      <td>517</td>\n      <td>was</td>\n    </tr>\n    <tr>\n      <th>echo</th>\n      <td>511</td>\n      <td>echo</td>\n    </tr>\n    <tr>\n      <th>but</th>\n      <td>498</td>\n      <td>but</td>\n    </tr>\n    <tr>\n      <th>so</th>\n      <td>475</td>\n      <td>so</td>\n    </tr>\n    <tr>\n      <th>as</th>\n      <td>465</td>\n      <td>as</td>\n    </tr>\n  </tbody>\n</table>\n</div>",
       "datasetInfos": [],
       "metadata": {},
       "removedWidgets": [],
       "textData": null,
       "type": "htmlSandbox"
      }
     },
     "output_type": "display_data"
    }
   ],
   "source": [
    "# we can now divide reviews into positive and negative sentiments to examine key word distribution across each, allowing us to identify specific words frequently cited in consumer reviews\n",
    "\n",
    "Pos_Reviews = PandasDF[PandasDF['label'] == 1] #assigning reviews to positive and negative sentiment categories\n",
    "Neg_Reviews = PandasDF[PandasDF['label'] == 0]\n",
    "\n",
    "mostfrequent_pos = pd.Series(' '.join(Pos_Reviews['RawText']).lower().split()).value_counts()[:100]\n",
    "mostfrequent_neg = pd.Series(' '.join(Neg_Reviews['RawText']).lower().split()).value_counts()[:100]\n",
    "mostfrequent_pos_list = mostfrequent_pos.tolist() #converting to list for later filtering\n",
    "mostfrequent_neg_list = mostfrequent_neg.tolist()\n",
    "\n",
    "positive_df = pd.DataFrame([mostfrequent_pos]) #creating a positive reviews dataframe to examine\n",
    "pos_df_transposed = positive_df.transpose()\n",
    "pos_df_transposed.columns = [\"Count\"]\n",
    "pos_df_transposed['Word'] = pos_df_transposed.index\n",
    "pos_df_transposed[:25] #display top 25 most used words in positive reviews"
   ]
  },
  {
   "cell_type": "code",
   "execution_count": 0,
   "metadata": {
    "application/vnd.databricks.v1+cell": {
     "inputWidgets": {},
     "nuid": "e6f94ad5-a71b-4051-a935-fa7fd2752ec0",
     "showTitle": false,
     "title": ""
    }
   },
   "outputs": [
    {
     "data": {
      "text/html": [
       "<style scoped>\n",
       "  .ansiout {\n",
       "    display: block;\n",
       "    unicode-bidi: embed;\n",
       "    white-space: pre-wrap;\n",
       "    word-wrap: break-word;\n",
       "    word-break: break-all;\n",
       "    font-family: \"Source Code Pro\", \"Menlo\", monospace;;\n",
       "    font-size: 13px;\n",
       "    color: #555;\n",
       "    margin-left: 4px;\n",
       "    line-height: 19px;\n",
       "  }\n",
       "</style>\n",
       "<div class=\"ansiout\">Out[67]: </div>"
      ]
     },
     "metadata": {
      "application/vnd.databricks.v1+output": {
       "addedWidgets": {},
       "arguments": {},
       "data": "<div class=\"ansiout\">Out[67]: </div>",
       "datasetInfos": [],
       "metadata": {},
       "removedWidgets": [],
       "type": "html"
      }
     },
     "output_type": "display_data"
    },
    {
     "data": {
      "text/html": [
       "<div>\n",
       "<style scoped>\n",
       "    .dataframe tbody tr th:only-of-type {\n",
       "        vertical-align: middle;\n",
       "    }\n",
       "\n",
       "    .dataframe tbody tr th {\n",
       "        vertical-align: top;\n",
       "    }\n",
       "\n",
       "    .dataframe thead th {\n",
       "        text-align: right;\n",
       "    }\n",
       "</style>\n",
       "<table border=\"1\" class=\"dataframe\">\n",
       "  <thead>\n",
       "    <tr style=\"text-align: right;\">\n",
       "      <th></th>\n",
       "      <th>Count</th>\n",
       "      <th>Word</th>\n",
       "    </tr>\n",
       "  </thead>\n",
       "  <tbody>\n",
       "    <tr>\n",
       "      <th>great</th>\n",
       "      <td>790</td>\n",
       "      <td>great</td>\n",
       "    </tr>\n",
       "    <tr>\n",
       "      <th>love</th>\n",
       "      <td>681</td>\n",
       "      <td>love</td>\n",
       "    </tr>\n",
       "    <tr>\n",
       "      <th>echo</th>\n",
       "      <td>511</td>\n",
       "      <td>echo</td>\n",
       "    </tr>\n",
       "    <tr>\n",
       "      <th>easy</th>\n",
       "      <td>434</td>\n",
       "      <td>easy</td>\n",
       "    </tr>\n",
       "    <tr>\n",
       "      <th>use</th>\n",
       "      <td>414</td>\n",
       "      <td>use</td>\n",
       "    </tr>\n",
       "    <tr>\n",
       "      <th>bought</th>\n",
       "      <td>411</td>\n",
       "      <td>bought</td>\n",
       "    </tr>\n",
       "    <tr>\n",
       "      <th>tablet</th>\n",
       "      <td>388</td>\n",
       "      <td>tablet</td>\n",
       "    </tr>\n",
       "    <tr>\n",
       "      <th>amazon</th>\n",
       "      <td>346</td>\n",
       "      <td>amazon</td>\n",
       "    </tr>\n",
       "    <tr>\n",
       "      <th>alexa</th>\n",
       "      <td>333</td>\n",
       "      <td>alexa</td>\n",
       "    </tr>\n",
       "    <tr>\n",
       "      <th>loves</th>\n",
       "      <td>309</td>\n",
       "      <td>loves</td>\n",
       "    </tr>\n",
       "    <tr>\n",
       "      <th>up</th>\n",
       "      <td>303</td>\n",
       "      <td>up</td>\n",
       "    </tr>\n",
       "    <tr>\n",
       "      <th>one</th>\n",
       "      <td>299</td>\n",
       "      <td>one</td>\n",
       "    </tr>\n",
       "    <tr>\n",
       "      <th>like</th>\n",
       "      <td>299</td>\n",
       "      <td>like</td>\n",
       "    </tr>\n",
       "    <tr>\n",
       "      <th>good</th>\n",
       "      <td>287</td>\n",
       "      <td>good</td>\n",
       "    </tr>\n",
       "    <tr>\n",
       "      <th>kids</th>\n",
       "      <td>252</td>\n",
       "      <td>kids</td>\n",
       "    </tr>\n",
       "    <tr>\n",
       "      <th>would</th>\n",
       "      <td>233</td>\n",
       "      <td>would</td>\n",
       "    </tr>\n",
       "    <tr>\n",
       "      <th>show</th>\n",
       "      <td>220</td>\n",
       "      <td>show</td>\n",
       "    </tr>\n",
       "    <tr>\n",
       "      <th>set</th>\n",
       "      <td>213</td>\n",
       "      <td>set</td>\n",
       "    </tr>\n",
       "    <tr>\n",
       "      <th>works</th>\n",
       "      <td>212</td>\n",
       "      <td>works</td>\n",
       "    </tr>\n",
       "    <tr>\n",
       "      <th>music</th>\n",
       "      <td>200</td>\n",
       "      <td>music</td>\n",
       "    </tr>\n",
       "    <tr>\n",
       "      <th>had</th>\n",
       "      <td>194</td>\n",
       "      <td>had</td>\n",
       "    </tr>\n",
       "    <tr>\n",
       "      <th>more</th>\n",
       "      <td>193</td>\n",
       "      <td>more</td>\n",
       "    </tr>\n",
       "    <tr>\n",
       "      <th>year</th>\n",
       "      <td>192</td>\n",
       "      <td>year</td>\n",
       "    </tr>\n",
       "    <tr>\n",
       "      <th>if</th>\n",
       "      <td>192</td>\n",
       "      <td>if</td>\n",
       "    </tr>\n",
       "    <tr>\n",
       "      <th>old</th>\n",
       "      <td>191</td>\n",
       "      <td>old</td>\n",
       "    </tr>\n",
       "    <tr>\n",
       "      <th>also</th>\n",
       "      <td>190</td>\n",
       "      <td>also</td>\n",
       "    </tr>\n",
       "    <tr>\n",
       "      <th>her</th>\n",
       "      <td>190</td>\n",
       "      <td>her</td>\n",
       "    </tr>\n",
       "    <tr>\n",
       "      <th>really</th>\n",
       "      <td>189</td>\n",
       "      <td>really</td>\n",
       "    </tr>\n",
       "    <tr>\n",
       "      <th>our</th>\n",
       "      <td>188</td>\n",
       "      <td>our</td>\n",
       "    </tr>\n",
       "    <tr>\n",
       "      <th>kindle</th>\n",
       "      <td>178</td>\n",
       "      <td>kindle</td>\n",
       "    </tr>\n",
       "    <tr>\n",
       "      <th>do</th>\n",
       "      <td>173</td>\n",
       "      <td>do</td>\n",
       "    </tr>\n",
       "    <tr>\n",
       "      <th>screen</th>\n",
       "      <td>171</td>\n",
       "      <td>screen</td>\n",
       "    </tr>\n",
       "    <tr>\n",
       "      <th>product</th>\n",
       "      <td>170</td>\n",
       "      <td>product</td>\n",
       "    </tr>\n",
       "    <tr>\n",
       "      <th>play</th>\n",
       "      <td>169</td>\n",
       "      <td>play</td>\n",
       "    </tr>\n",
       "    <tr>\n",
       "      <th>what</th>\n",
       "      <td>163</td>\n",
       "      <td>what</td>\n",
       "    </tr>\n",
       "    <tr>\n",
       "      <th>only</th>\n",
       "      <td>159</td>\n",
       "      <td>only</td>\n",
       "    </tr>\n",
       "    <tr>\n",
       "      <th>me</th>\n",
       "      <td>159</td>\n",
       "      <td>me</td>\n",
       "    </tr>\n",
       "    <tr>\n",
       "      <th>other</th>\n",
       "      <td>159</td>\n",
       "      <td>other</td>\n",
       "    </tr>\n",
       "    <tr>\n",
       "      <th>home</th>\n",
       "      <td>158</td>\n",
       "      <td>home</td>\n",
       "    </tr>\n",
       "    <tr>\n",
       "      <th>purchased</th>\n",
       "      <td>158</td>\n",
       "      <td>purchased</td>\n",
       "    </tr>\n",
       "    <tr>\n",
       "      <th>much</th>\n",
       "      <td>157</td>\n",
       "      <td>much</td>\n",
       "    </tr>\n",
       "    <tr>\n",
       "      <th>sound</th>\n",
       "      <td>156</td>\n",
       "      <td>sound</td>\n",
       "    </tr>\n",
       "    <tr>\n",
       "      <th>will</th>\n",
       "      <td>155</td>\n",
       "      <td>will</td>\n",
       "    </tr>\n",
       "    <tr>\n",
       "      <th>best</th>\n",
       "      <td>150</td>\n",
       "      <td>best</td>\n",
       "    </tr>\n",
       "    <tr>\n",
       "      <th>got</th>\n",
       "      <td>147</td>\n",
       "      <td>got</td>\n",
       "    </tr>\n",
       "    <tr>\n",
       "      <th>buy</th>\n",
       "      <td>146</td>\n",
       "      <td>buy</td>\n",
       "    </tr>\n",
       "    <tr>\n",
       "      <th>smart</th>\n",
       "      <td>144</td>\n",
       "      <td>smart</td>\n",
       "    </tr>\n",
       "    <tr>\n",
       "      <th>time</th>\n",
       "      <td>144</td>\n",
       "      <td>time</td>\n",
       "    </tr>\n",
       "    <tr>\n",
       "      <th>able</th>\n",
       "      <td>140</td>\n",
       "      <td>able</td>\n",
       "    </tr>\n",
       "    <tr>\n",
       "      <th>device</th>\n",
       "      <td>138</td>\n",
       "      <td>device</td>\n",
       "    </tr>\n",
       "    <tr>\n",
       "      <th>video</th>\n",
       "      <td>131</td>\n",
       "      <td>video</td>\n",
       "    </tr>\n",
       "    <tr>\n",
       "      <th>well</th>\n",
       "      <td>127</td>\n",
       "      <td>well</td>\n",
       "    </tr>\n",
       "    <tr>\n",
       "      <th>games</th>\n",
       "      <td>126</td>\n",
       "      <td>games</td>\n",
       "    </tr>\n",
       "    <tr>\n",
       "      <th>out</th>\n",
       "      <td>125</td>\n",
       "      <td>out</td>\n",
       "    </tr>\n",
       "    <tr>\n",
       "      <th>about</th>\n",
       "      <td>124</td>\n",
       "      <td>about</td>\n",
       "    </tr>\n",
       "  </tbody>\n",
       "</table>\n",
       "</div>"
      ]
     },
     "metadata": {
      "application/vnd.databricks.v1+output": {
       "addedWidgets": {},
       "arguments": {},
       "data": "<div>\n<style scoped>\n    .dataframe tbody tr th:only-of-type {\n        vertical-align: middle;\n    }\n\n    .dataframe tbody tr th {\n        vertical-align: top;\n    }\n\n    .dataframe thead th {\n        text-align: right;\n    }\n</style>\n<table border=\"1\" class=\"dataframe\">\n  <thead>\n    <tr style=\"text-align: right;\">\n      <th></th>\n      <th>Count</th>\n      <th>Word</th>\n    </tr>\n  </thead>\n  <tbody>\n    <tr>\n      <th>great</th>\n      <td>790</td>\n      <td>great</td>\n    </tr>\n    <tr>\n      <th>love</th>\n      <td>681</td>\n      <td>love</td>\n    </tr>\n    <tr>\n      <th>echo</th>\n      <td>511</td>\n      <td>echo</td>\n    </tr>\n    <tr>\n      <th>easy</th>\n      <td>434</td>\n      <td>easy</td>\n    </tr>\n    <tr>\n      <th>use</th>\n      <td>414</td>\n      <td>use</td>\n    </tr>\n    <tr>\n      <th>bought</th>\n      <td>411</td>\n      <td>bought</td>\n    </tr>\n    <tr>\n      <th>tablet</th>\n      <td>388</td>\n      <td>tablet</td>\n    </tr>\n    <tr>\n      <th>amazon</th>\n      <td>346</td>\n      <td>amazon</td>\n    </tr>\n    <tr>\n      <th>alexa</th>\n      <td>333</td>\n      <td>alexa</td>\n    </tr>\n    <tr>\n      <th>loves</th>\n      <td>309</td>\n      <td>loves</td>\n    </tr>\n    <tr>\n      <th>up</th>\n      <td>303</td>\n      <td>up</td>\n    </tr>\n    <tr>\n      <th>one</th>\n      <td>299</td>\n      <td>one</td>\n    </tr>\n    <tr>\n      <th>like</th>\n      <td>299</td>\n      <td>like</td>\n    </tr>\n    <tr>\n      <th>good</th>\n      <td>287</td>\n      <td>good</td>\n    </tr>\n    <tr>\n      <th>kids</th>\n      <td>252</td>\n      <td>kids</td>\n    </tr>\n    <tr>\n      <th>would</th>\n      <td>233</td>\n      <td>would</td>\n    </tr>\n    <tr>\n      <th>show</th>\n      <td>220</td>\n      <td>show</td>\n    </tr>\n    <tr>\n      <th>set</th>\n      <td>213</td>\n      <td>set</td>\n    </tr>\n    <tr>\n      <th>works</th>\n      <td>212</td>\n      <td>works</td>\n    </tr>\n    <tr>\n      <th>music</th>\n      <td>200</td>\n      <td>music</td>\n    </tr>\n    <tr>\n      <th>had</th>\n      <td>194</td>\n      <td>had</td>\n    </tr>\n    <tr>\n      <th>more</th>\n      <td>193</td>\n      <td>more</td>\n    </tr>\n    <tr>\n      <th>year</th>\n      <td>192</td>\n      <td>year</td>\n    </tr>\n    <tr>\n      <th>if</th>\n      <td>192</td>\n      <td>if</td>\n    </tr>\n    <tr>\n      <th>old</th>\n      <td>191</td>\n      <td>old</td>\n    </tr>\n    <tr>\n      <th>also</th>\n      <td>190</td>\n      <td>also</td>\n    </tr>\n    <tr>\n      <th>her</th>\n      <td>190</td>\n      <td>her</td>\n    </tr>\n    <tr>\n      <th>really</th>\n      <td>189</td>\n      <td>really</td>\n    </tr>\n    <tr>\n      <th>our</th>\n      <td>188</td>\n      <td>our</td>\n    </tr>\n    <tr>\n      <th>kindle</th>\n      <td>178</td>\n      <td>kindle</td>\n    </tr>\n    <tr>\n      <th>do</th>\n      <td>173</td>\n      <td>do</td>\n    </tr>\n    <tr>\n      <th>screen</th>\n      <td>171</td>\n      <td>screen</td>\n    </tr>\n    <tr>\n      <th>product</th>\n      <td>170</td>\n      <td>product</td>\n    </tr>\n    <tr>\n      <th>play</th>\n      <td>169</td>\n      <td>play</td>\n    </tr>\n    <tr>\n      <th>what</th>\n      <td>163</td>\n      <td>what</td>\n    </tr>\n    <tr>\n      <th>only</th>\n      <td>159</td>\n      <td>only</td>\n    </tr>\n    <tr>\n      <th>me</th>\n      <td>159</td>\n      <td>me</td>\n    </tr>\n    <tr>\n      <th>other</th>\n      <td>159</td>\n      <td>other</td>\n    </tr>\n    <tr>\n      <th>home</th>\n      <td>158</td>\n      <td>home</td>\n    </tr>\n    <tr>\n      <th>purchased</th>\n      <td>158</td>\n      <td>purchased</td>\n    </tr>\n    <tr>\n      <th>much</th>\n      <td>157</td>\n      <td>much</td>\n    </tr>\n    <tr>\n      <th>sound</th>\n      <td>156</td>\n      <td>sound</td>\n    </tr>\n    <tr>\n      <th>will</th>\n      <td>155</td>\n      <td>will</td>\n    </tr>\n    <tr>\n      <th>best</th>\n      <td>150</td>\n      <td>best</td>\n    </tr>\n    <tr>\n      <th>got</th>\n      <td>147</td>\n      <td>got</td>\n    </tr>\n    <tr>\n      <th>buy</th>\n      <td>146</td>\n      <td>buy</td>\n    </tr>\n    <tr>\n      <th>smart</th>\n      <td>144</td>\n      <td>smart</td>\n    </tr>\n    <tr>\n      <th>time</th>\n      <td>144</td>\n      <td>time</td>\n    </tr>\n    <tr>\n      <th>able</th>\n      <td>140</td>\n      <td>able</td>\n    </tr>\n    <tr>\n      <th>device</th>\n      <td>138</td>\n      <td>device</td>\n    </tr>\n    <tr>\n      <th>video</th>\n      <td>131</td>\n      <td>video</td>\n    </tr>\n    <tr>\n      <th>well</th>\n      <td>127</td>\n      <td>well</td>\n    </tr>\n    <tr>\n      <th>games</th>\n      <td>126</td>\n      <td>games</td>\n    </tr>\n    <tr>\n      <th>out</th>\n      <td>125</td>\n      <td>out</td>\n    </tr>\n    <tr>\n      <th>about</th>\n      <td>124</td>\n      <td>about</td>\n    </tr>\n  </tbody>\n</table>\n</div>",
       "datasetInfos": [],
       "metadata": {},
       "removedWidgets": [],
       "textData": null,
       "type": "htmlSandbox"
      }
     },
     "output_type": "display_data"
    }
   ],
   "source": [
    "# clearly, stop words make up the immense bulk of words within reviews, as would be expected. we will therefore remove these stopwords using two methods: first, by directly specifying the stop words we want to remove, and second, by removing any words that are within the top 100 most used words in both positive and negative reviews. \n",
    "\n",
    "stopwords = [\"the\", \"to\", \"and\", \"i\", \"it\", \"for\", \"a\", \"is\", \"my\", \"this\", \"with\", \"of\", \"have\", \"on\", \"that\", \"in\", \"you\", \"was\", \"but\", \"can\",\n",
    "            \"as\", \"so\", \"than\", \"am\", \"does\", \"we\", \"very\", \"not\", \"she\", \"it\", \"be\", \"all\", \"they\", \"it.\", \"has\", \"from\", \"just\", \"an\", \"it's\",\n",
    "            \"get\", \"at\", \"are\", \"when\", \"he\", \"she\", \"or\", \"your\"]\n",
    "pos_df_transposed = pos_df_transposed[~pos_df_transposed['Word'].isin(stopwords) & ~pos_df_transposed['Word'].isin(mostfrequent_neg_list)]\n",
    "pos_df_transposed"
   ]
  },
  {
   "cell_type": "code",
   "execution_count": 0,
   "metadata": {
    "application/vnd.databricks.v1+cell": {
     "inputWidgets": {},
     "nuid": "65b4ed05-8eb3-472d-93cb-63467bd2dc26",
     "showTitle": false,
     "title": ""
    }
   },
   "outputs": [
    {
     "data": {
      "text/html": [
       "<style scoped>\n",
       "  .ansiout {\n",
       "    display: block;\n",
       "    unicode-bidi: embed;\n",
       "    white-space: pre-wrap;\n",
       "    word-wrap: break-word;\n",
       "    word-break: break-all;\n",
       "    font-family: \"Source Code Pro\", \"Menlo\", monospace;;\n",
       "    font-size: 13px;\n",
       "    color: #555;\n",
       "    margin-left: 4px;\n",
       "    line-height: 19px;\n",
       "  }\n",
       "</style>\n",
       "<div class=\"ansiout\">Out[78]: </div>"
      ]
     },
     "metadata": {
      "application/vnd.databricks.v1+output": {
       "addedWidgets": {},
       "arguments": {},
       "data": "<div class=\"ansiout\">Out[78]: </div>",
       "datasetInfos": [],
       "metadata": {},
       "removedWidgets": [],
       "type": "html"
      }
     },
     "output_type": "display_data"
    },
    {
     "data": {
      "image/png": "[encoded data removed]"
     },
     "metadata": {
      "application/vnd.databricks.v1+output": {
       "addedWidgets": {},
       "arguments": {},
       "data": "data:image/png;base64,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",
       "datasetInfos": [],
       "metadata": {
        "imageDimensions": {
         "height": 393,
         "width": 898
        }
       },
       "removedWidgets": [],
       "type": "image"
      },
      "image/png": {
       "height": 393,
       "width": 898
      }
     },
     "output_type": "display_data"
    },
    {
     "data": {
      "text/html": [
       "<style scoped>\n",
       "  .ansiout {\n",
       "    display: block;\n",
       "    unicode-bidi: embed;\n",
       "    white-space: pre-wrap;\n",
       "    word-wrap: break-word;\n",
       "    word-break: break-all;\n",
       "    font-family: \"Source Code Pro\", \"Menlo\", monospace;;\n",
       "    font-size: 13px;\n",
       "    color: #555;\n",
       "    margin-left: 4px;\n",
       "    line-height: 19px;\n",
       "  }\n",
       "</style>\n",
       "<div class=\"ansiout\">Text(0, 0.5, &#39;Count&#39;)</div>"
      ]
     },
     "metadata": {
      "application/vnd.databricks.v1+output": {
       "addedWidgets": {},
       "arguments": {},
       "data": "<div class=\"ansiout\">Text(0, 0.5, &#39;Count&#39;)</div>",
       "datasetInfos": [],
       "metadata": {},
       "removedWidgets": [],
       "type": "html"
      }
     },
     "output_type": "display_data"
    }
   ],
   "source": [
    "# finally, we can visually the top 20 most frequently used words in positive reviews\n",
    "\n",
    "sns.set(rc={'figure.figsize':(15,6)})\n",
    "sns.set_style(\"whitegrid\")\n",
    "sns.barplot(x='Word', y='Count', data=pos_df_transposed[:20], palette='deep')\n",
    "plt.title(\"Most Frequently Used Words: Positive Reviews\")"
   ]
  },
  {
   "cell_type": "code",
   "execution_count": 0,
   "metadata": {
    "application/vnd.databricks.v1+cell": {
     "inputWidgets": {},
     "nuid": "7d91c8d5-2cc7-412e-a498-c80437da6e97",
     "showTitle": false,
     "title": ""
    }
   },
   "outputs": [
    {
     "data": {
      "text/html": [
       "<style scoped>\n",
       "  .ansiout {\n",
       "    display: block;\n",
       "    unicode-bidi: embed;\n",
       "    white-space: pre-wrap;\n",
       "    word-wrap: break-word;\n",
       "    word-break: break-all;\n",
       "    font-family: \"Source Code Pro\", \"Menlo\", monospace;;\n",
       "    font-size: 13px;\n",
       "    color: #555;\n",
       "    margin-left: 4px;\n",
       "    line-height: 19px;\n",
       "  }\n",
       "</style>\n",
       "<div class=\"ansiout\">Out[79]: </div>"
      ]
     },
     "metadata": {
      "application/vnd.databricks.v1+output": {
       "addedWidgets": {},
       "arguments": {},
       "data": "<div class=\"ansiout\">Out[79]: </div>",
       "datasetInfos": [],
       "metadata": {},
       "removedWidgets": [],
       "type": "html"
      }
     },
     "output_type": "display_data"
    },
    {
     "data": {
      "image/png": "[encoded data removed]"
     },
     "metadata": {
      "application/vnd.databricks.v1+output": {
       "addedWidgets": {},
       "arguments": {},
       "data": "data:image/png;base64,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",
       "datasetInfos": [],
       "metadata": {
        "imageDimensions": {
         "height": 393,
         "width": 891
        }
       },
       "removedWidgets": [],
       "type": "image"
      },
      "image/png": {
       "height": 393,
       "width": 891
      }
     },
     "output_type": "display_data"
    },
    {
     "data": {
      "text/html": [
       "<style scoped>\n",
       "  .ansiout {\n",
       "    display: block;\n",
       "    unicode-bidi: embed;\n",
       "    white-space: pre-wrap;\n",
       "    word-wrap: break-word;\n",
       "    word-break: break-all;\n",
       "    font-family: \"Source Code Pro\", \"Menlo\", monospace;;\n",
       "    font-size: 13px;\n",
       "    color: #555;\n",
       "    margin-left: 4px;\n",
       "    line-height: 19px;\n",
       "  }\n",
       "</style>\n",
       "<div class=\"ansiout\">Text(0.5, 1.0, &#39;Most Frequently Used Words: Negative Reviews&#39;)</div>"
      ]
     },
     "metadata": {
      "application/vnd.databricks.v1+output": {
       "addedWidgets": {},
       "arguments": {},
       "data": "<div class=\"ansiout\">Text(0.5, 1.0, &#39;Most Frequently Used Words: Negative Reviews&#39;)</div>",
       "datasetInfos": [],
       "metadata": {},
       "removedWidgets": [],
       "type": "html"
      }
     },
     "output_type": "display_data"
    }
   ],
   "source": [
    "# we can repeat a similar process for negative reviews\n",
    "\n",
    "negative_df = pd.DataFrame([mostfrequent_neg]) \n",
    "neg_df_transposed = negative_df.transpose()\n",
    "neg_df_transposed.columns = [\"Count\"]\n",
    "neg_df_transposed['Word'] = neg_df_transposed.index\n",
    "neg_df_transposed[:25] \n",
    "\n",
    "neg_df_transposed = neg_df_transposed[~neg_df_transposed['Word'].isin(stopwords) & ~neg_df_transposed['Word'].isin(mostfrequent_pos_list)]\n",
    "neg_df_transposed\n",
    "\n",
    "sns.barplot(x='Word', y='Count', data=neg_df_transposed[:20], palette='deep')\n",
    "plt.title(\"Most Frequently Used Words: Negative Reviews\")"
   ]
  },
  {
   "cell_type": "code",
   "execution_count": 0,
   "metadata": {
    "application/vnd.databricks.v1+cell": {
     "inputWidgets": {},
     "nuid": "7137607c-149b-4896-a982-2b3d7348bd40",
     "showTitle": false,
     "title": ""
    }
   },
   "outputs": [
    {
     "data": {
      "text/html": [
       "<style scoped>\n",
       "  .ansiout {\n",
       "    display: block;\n",
       "    unicode-bidi: embed;\n",
       "    white-space: pre-wrap;\n",
       "    word-wrap: break-word;\n",
       "    word-break: break-all;\n",
       "    font-family: \"Source Code Pro\", \"Menlo\", monospace;;\n",
       "    font-size: 13px;\n",
       "    color: #555;\n",
       "    margin-left: 4px;\n",
       "    line-height: 19px;\n",
       "  }\n",
       "</style>"
      ]
     },
     "metadata": {
      "application/vnd.databricks.v1+output": {
       "arguments": {},
       "data": "",
       "errorSummary": "",
       "errorTraceType": null,
       "metadata": {},
       "type": "ipynbError"
      }
     },
     "output_type": "display_data"
    }
   ],
   "source": []
  }
 ],
 "metadata": {
  "application/vnd.databricks.v1+notebook": {
   "dashboards": [],
   "language": "python",
   "notebookMetadata": {
    "pythonIndentUnit": 2
   },
   "notebookName": "DATA603 - Final Project",
   "notebookOrigID": 1084037558145362,
   "widgets": {}
  },
  "kernelspec": {
   "display_name": "Python 3",
   "language": "python",
   "name": "python3"
  },
  "language_info": {
   "codemirror_mode": {
    "name": "ipython",
    "version": 3
   },
   "file_extension": ".py",
   "mimetype": "text/x-python",
   "name": "python",
   "nbconvert_exporter": "python",
   "pygments_lexer": "ipython3",
   "version": "3.8.5"
  }
 },
 "nbformat": 4,
 "nbformat_minor": 1
}
